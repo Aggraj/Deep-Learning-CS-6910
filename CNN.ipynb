{
  "nbformat": 4,
  "nbformat_minor": 0,
  "metadata": {
    "accelerator": "GPU",
    "colab": {
      "name": "CNN.ipynb",
      "provenance": [],
      "collapsed_sections": [],
      "include_colab_link": true
    },
    "kernelspec": {
      "display_name": "Python 2",
      "name": "python2"
    },
    "language_info": {
      "name": "python"
    },
    "widgets": {
      "application/vnd.jupyter.widget-state+json": {
        "a14ca476529a4cc9900bc8c90df5a1c1": {
          "model_module": "@jupyter-widgets/controls",
          "model_name": "VBoxModel",
          "state": {
            "_view_name": "VBoxView",
            "_dom_classes": [],
            "_model_name": "VBoxModel",
            "_view_module": "@jupyter-widgets/controls",
            "_model_module_version": "1.5.0",
            "_view_count": null,
            "_view_module_version": "1.5.0",
            "box_style": "",
            "layout": "IPY_MODEL_1cea6ace087647e1922f9b355968b8e5",
            "_model_module": "@jupyter-widgets/controls",
            "children": [
              "IPY_MODEL_60b74486b325487dadbb881526b9144a",
              "IPY_MODEL_079fca2053ad400086245c503b1bdd90"
            ]
          }
        },
        "1cea6ace087647e1922f9b355968b8e5": {
          "model_module": "@jupyter-widgets/base",
          "model_name": "LayoutModel",
          "state": {
            "_view_name": "LayoutView",
            "grid_template_rows": null,
            "right": null,
            "justify_content": null,
            "_view_module": "@jupyter-widgets/base",
            "_model_module_version": "1.2.0",
            "_view_count": null,
            "flex_flow": null,
            "min_width": null,
            "border": null,
            "align_items": null,
            "bottom": null,
            "_model_module": "@jupyter-widgets/base",
            "top": null,
            "grid_column": null,
            "width": null,
            "overflow_x": null,
            "grid_auto_flow": null,
            "grid_area": null,
            "grid_template_columns": null,
            "flex": null,
            "_model_name": "LayoutModel",
            "justify_items": null,
            "grid_row": null,
            "max_height": null,
            "align_content": null,
            "visibility": null,
            "overflow": null,
            "height": null,
            "min_height": null,
            "padding": null,
            "grid_auto_rows": null,
            "grid_gap": null,
            "overflow_y": null,
            "max_width": null,
            "order": null,
            "_view_module_version": "1.2.0",
            "align_self": null,
            "grid_template_areas": null,
            "object_position": null,
            "object_fit": null,
            "grid_auto_columns": null,
            "margin": null,
            "display": null,
            "left": null
          }
        },
        "60b74486b325487dadbb881526b9144a": {
          "model_module": "@jupyter-widgets/controls",
          "model_name": "LabelModel",
          "state": {
            "_view_name": "LabelView",
            "style": "IPY_MODEL_a551fca505bc492bb009f1d4ec7c47eb",
            "_dom_classes": [],
            "description": "",
            "_model_name": "LabelModel",
            "placeholder": "​",
            "_view_module": "@jupyter-widgets/controls",
            "_model_module_version": "1.5.0",
            "value": " 0.01MB of 0.01MB uploaded (0.00MB deduped)\r",
            "_view_count": null,
            "_view_module_version": "1.5.0",
            "description_tooltip": null,
            "_model_module": "@jupyter-widgets/controls",
            "layout": "IPY_MODEL_b5b9806970fb47c0aebf1e0d11da9b44"
          }
        },
        "079fca2053ad400086245c503b1bdd90": {
          "model_module": "@jupyter-widgets/controls",
          "model_name": "FloatProgressModel",
          "state": {
            "_view_name": "ProgressView",
            "style": "IPY_MODEL_a128b97ec1e5404cbde033021c1c6038",
            "_view_module": "@jupyter-widgets/controls",
            "_dom_classes": [],
            "orientation": "horizontal",
            "min": 0,
            "bar_style": "",
            "max": 1,
            "_model_name": "FloatProgressModel",
            "_model_module_version": "1.5.0",
            "value": 1,
            "_view_count": null,
            "_view_module_version": "1.5.0",
            "description_tooltip": null,
            "_model_module": "@jupyter-widgets/controls",
            "layout": "IPY_MODEL_e59f5932b5494957b61f59ca6c19bea0",
            "description": ""
          }
        },
        "a551fca505bc492bb009f1d4ec7c47eb": {
          "model_module": "@jupyter-widgets/controls",
          "model_name": "DescriptionStyleModel",
          "state": {
            "_view_name": "StyleView",
            "_model_name": "DescriptionStyleModel",
            "description_width": "",
            "_view_module": "@jupyter-widgets/base",
            "_model_module_version": "1.5.0",
            "_view_count": null,
            "_view_module_version": "1.2.0",
            "_model_module": "@jupyter-widgets/controls"
          }
        },
        "b5b9806970fb47c0aebf1e0d11da9b44": {
          "model_module": "@jupyter-widgets/base",
          "model_name": "LayoutModel",
          "state": {
            "_view_name": "LayoutView",
            "grid_template_rows": null,
            "right": null,
            "justify_content": null,
            "_view_module": "@jupyter-widgets/base",
            "_model_module_version": "1.2.0",
            "_view_count": null,
            "flex_flow": null,
            "min_width": null,
            "border": null,
            "align_items": null,
            "bottom": null,
            "_model_module": "@jupyter-widgets/base",
            "top": null,
            "grid_column": null,
            "width": null,
            "overflow_x": null,
            "grid_auto_flow": null,
            "grid_area": null,
            "grid_template_columns": null,
            "flex": null,
            "_model_name": "LayoutModel",
            "justify_items": null,
            "grid_row": null,
            "max_height": null,
            "align_content": null,
            "visibility": null,
            "overflow": null,
            "height": null,
            "min_height": null,
            "padding": null,
            "grid_auto_rows": null,
            "grid_gap": null,
            "overflow_y": null,
            "max_width": null,
            "order": null,
            "_view_module_version": "1.2.0",
            "align_self": null,
            "grid_template_areas": null,
            "object_position": null,
            "object_fit": null,
            "grid_auto_columns": null,
            "margin": null,
            "display": null,
            "left": null
          }
        },
        "a128b97ec1e5404cbde033021c1c6038": {
          "model_module": "@jupyter-widgets/controls",
          "model_name": "ProgressStyleModel",
          "state": {
            "_view_name": "StyleView",
            "_model_name": "ProgressStyleModel",
            "description_width": "",
            "_view_module": "@jupyter-widgets/base",
            "_model_module_version": "1.5.0",
            "_view_count": null,
            "_view_module_version": "1.2.0",
            "bar_color": null,
            "_model_module": "@jupyter-widgets/controls"
          }
        },
        "e59f5932b5494957b61f59ca6c19bea0": {
          "model_module": "@jupyter-widgets/base",
          "model_name": "LayoutModel",
          "state": {
            "_view_name": "LayoutView",
            "grid_template_rows": null,
            "right": null,
            "justify_content": null,
            "_view_module": "@jupyter-widgets/base",
            "_model_module_version": "1.2.0",
            "_view_count": null,
            "flex_flow": null,
            "min_width": null,
            "border": null,
            "align_items": null,
            "bottom": null,
            "_model_module": "@jupyter-widgets/base",
            "top": null,
            "grid_column": null,
            "width": null,
            "overflow_x": null,
            "grid_auto_flow": null,
            "grid_area": null,
            "grid_template_columns": null,
            "flex": null,
            "_model_name": "LayoutModel",
            "justify_items": null,
            "grid_row": null,
            "max_height": null,
            "align_content": null,
            "visibility": null,
            "overflow": null,
            "height": null,
            "min_height": null,
            "padding": null,
            "grid_auto_rows": null,
            "grid_gap": null,
            "overflow_y": null,
            "max_width": null,
            "order": null,
            "_view_module_version": "1.2.0",
            "align_self": null,
            "grid_template_areas": null,
            "object_position": null,
            "object_fit": null,
            "grid_auto_columns": null,
            "margin": null,
            "display": null,
            "left": null
          }
        }
      }
    }
  },
  "cells": [
    {
      "cell_type": "markdown",
      "metadata": {
        "id": "view-in-github",
        "colab_type": "text"
      },
      "source": [
        "<a href=\"https://colab.research.google.com/github/Aggraj/Deep-Learning-CS-6910/blob/main/CNN.ipynb\" target=\"_parent\"><img src=\"https://colab.research.google.com/assets/colab-badge.svg\" alt=\"Open In Colab\"/></a>"
      ]
    },
    {
      "cell_type": "code",
      "metadata": {
        "colab": {
          "base_uri": "https://localhost:8080/"
        },
        "id": "W5I9kyP_F5gh",
        "outputId": "69fc0797-e797-45ab-9af2-fbc8338552e5"
      },
      "source": [
        "\n",
        "from google.colab import drive\n",
        "drive.mount('/content/drive')"
      ],
      "execution_count": 2,
      "outputs": [
        {
          "output_type": "stream",
          "text": [
            "Drive already mounted at /content/drive; to attempt to forcibly remount, call drive.mount(\"/content/drive\", force_remount=True).\n"
          ],
          "name": "stdout"
        }
      ]
    },
    {
      "cell_type": "code",
      "metadata": {
        "colab": {
          "base_uri": "https://localhost:8080/"
        },
        "id": "E8ug3jzYGRJQ",
        "outputId": "aa7fa599-d999-4e33-8fd1-4a74ce5e0c43"
      },
      "source": [
        "%cd \"/content/drive/My Drive/Colab Notebooks\"\n"
      ],
      "execution_count": 3,
      "outputs": [
        {
          "output_type": "stream",
          "text": [
            "/content/drive/My Drive/Colab Notebooks\n"
          ],
          "name": "stdout"
        }
      ]
    },
    {
      "cell_type": "code",
      "metadata": {
        "colab": {
          "base_uri": "https://localhost:8080/"
        },
        "id": "nni9tPifgVzl",
        "outputId": "a9a9526a-8b91-4309-856b-218c6977029a"
      },
      "source": [
        "%pip install wandb -q\n",
        "import wandb\n",
        "wandb.login()"
      ],
      "execution_count": 4,
      "outputs": [
        {
          "output_type": "stream",
          "text": [
            "wandb: Currently logged in as: aggraj (use `wandb login --relogin` to force relogin)\n"
          ],
          "name": "stderr"
        },
        {
          "output_type": "execute_result",
          "data": {
            "text/plain": [
              "True"
            ]
          },
          "metadata": {
            "tags": []
          },
          "execution_count": 4
        }
      ]
    },
    {
      "cell_type": "code",
      "metadata": {
        "colab": {
          "base_uri": "https://localhost:8080/"
        },
        "id": "AtqAWCjT5501",
        "outputId": "f7bb927f-3adb-48b9-f19e-90a4a4fd32b9"
      },
      "source": [
        "from keras.models import Sequential\n",
        "from keras.layers import Dense, Conv2D, Flatten\n",
        "from sklearn.metrics import mean_squared_error\n",
        "import matplotlib.pyplot as plt\n",
        "from keras.preprocessing.image import ImageDataGenerator\n",
        "import numpy as np\n",
        "import pandas as pd\n",
        "from sklearn.preprocessing import StandardScaler\n",
        "from sklearn.model_selection import train_test_split\n",
        "from sklearn.model_selection import cross_val_score\n",
        "from sklearn.model_selection import KFold\n",
        "from sklearn.pipeline import Pipeline\n",
        "from scipy.io import loadmat\n",
        "from sklearn.preprocessing import MinMaxScaler\n",
        "from tensorflow.python.keras.models import Sequential\n",
        "from tensorflow.python.keras.layers import Input, Dense\n",
        "from tensorflow.python.keras.wrappers.scikit_learn import KerasRegressor\n",
        "from keras.layers import BatchNormalization\n",
        "import os\n",
        "from keras.regularizers import l2\n",
        "from tensorflow.keras import layers\n",
        "from tensorflow.keras.layers import Conv2D, Flatten, MaxPooling2D, Dropout, BatchNormalization\n",
        "from tensorflow import keras\n",
        "import scipy.io as sio\n",
        "#from mat4py import savemat\n",
        "import tensorflow\n",
        "from tensorflow.keras.layers import Dropout\n",
        "from keras.models import Model\n",
        "import pickle\n",
        "import numpy as np\n",
        "import argparse\n",
        "from scipy.special import expit\n",
        "import tensorflow as tf\n",
        "from sklearn.metrics import log_loss\n",
        "from keras.datasets import fashion_mnist\n",
        "output_classes = 10\n",
        "from tensorflow.keras.layers import Dropout\n",
        "from keras.models import Model\n",
        "import pickle\n",
        "import numpy as np\n",
        "import argparse\n",
        "from scipy.special import expit\n",
        "import tensorflow as tf\n",
        "from sklearn.metrics import log_loss\n",
        "from keras.datasets import fashion_mnist\n",
        "output_classes = 10\n",
        "\n",
        "\n",
        "pickle_in = open(\"train.pickle\",\"rb\")\n",
        "x = pickle.load(pickle_in)\n",
        "\n",
        "pickle_in = open(\"train_label.pickle\",\"rb\")\n",
        "y = pickle.load(pickle_in)\n",
        "\n",
        "pickle_in = open(\"val.pickle\",\"rb\")\n",
        "xTest = pickle.load(pickle_in)\n",
        "\n",
        "pickle_in = open(\"val_label.pickle\",\"rb\")\n",
        "yTest = pickle.load(pickle_in)\n",
        "    # datagen = ImageDataGenerator(\n",
        "    #     rotation_range=40,\n",
        "    #     width_shift_range=0.2,\n",
        "    #     height_shift_range=0.2,\n",
        "    #     rescale=1./255,\n",
        "    #     shear_range=0.2,\n",
        "    #     zoom_range=0.2,\n",
        "    #     horizontal_flip=True,\n",
        "    #     fill_mode='nearest')\n",
        "datagen = ImageDataGenerator(\n",
        "    rotation_range=25,\n",
        "    width_shift_range=0.2,\n",
        "    height_shift_range=0.2,\n",
        "    horizontal_flip=True)\n",
        "x /= 255; xTest /= 255\n",
        "\n",
        "\n",
        "    # print(np.array(yTrain).shape)\n",
        "\n",
        "xTrain, xval, yTrain, yval = train_test_split(x, y, test_size = 0.2, random_state = 0)\n"
      ],
      "execution_count": 5,
      "outputs": [
        {
          "output_type": "stream",
          "text": [
            "Using TensorFlow backend.\n"
          ],
          "name": "stderr"
        }
      ]
    },
    {
      "cell_type": "code",
      "metadata": {
        "id": "alf0ff-7fwcF",
        "colab": {
          "base_uri": "https://localhost:8080/"
        },
        "outputId": "68525225-71fa-4a4c-e094-525ad3b21160"
      },
      "source": [
        "filter = [64,64,32,32,16]\n",
        "filter_size = [9,8,7,6,5]\n",
        "num_neurons = 100\n",
        "num_epoch = 1\n",
        "# model = Sequential()\n",
        "# model.add(Conv2D(filter[0],(filter_size[0],filter_size[0]), padding=\"same\",activation='relu',input_shape=(200,200,1)))\n",
        "# model.add(MaxPooling2D(pool_size=(2, 2)))\n",
        "# model.add(Dropout(0.5))\n",
        "# model.add(BatchNormalization())\n",
        "# model.add(Conv2D(filter[1],(filter_size[1],filter_size[1]), padding=\"same\",activation='relu'))\n",
        "# model.add(MaxPooling2D(pool_size=(2, 2)))\n",
        "# model.add(Dropout(0.5))\n",
        "# model.add(BatchNormalization())\n",
        "# model.add(Conv2D(filter[2],(filter_size[2],filter_size[2]), padding=\"same\",activation='relu'))\n",
        "# model.add(MaxPooling2D(pool_size=(2, 2)))\n",
        "# model.add(Dropout(0.5))\n",
        "# model.add(BatchNormalization())\n",
        "# model.add(Conv2D(filter[3],(filter_size[3],filter_size[3]), padding=\"same\",activation='relu'))\n",
        "# model.add(MaxPooling2D(pool_size=(2, 2)))\n",
        "# model.add(Dropout(0.5))\n",
        "# model.add(BatchNormalization())\n",
        "# model.add(Conv2D(filter[4],(filter_size[4],filter_size[4]), padding=\"same\",activation='relu'))\n",
        "# model.add(MaxPooling2D(pool_size=(2, 2)))\n",
        "# model.add(Dropout(0.5))\n",
        "# model.add(BatchNormalization())\n",
        "# model.add(Flatten())\n",
        "# model.add(Dense(num_neurons, activation=\"relu\"))\n",
        "# model.add(Dense(10, activation='softmax'))\n",
        "# model.compile(loss=tf.keras.losses.CategoricalCrossentropy(), optimizer=\"adam\", metrics=['acc'])\n",
        "# model.summary()\n",
        "# model.fit(xTrain, yTrain, batch_size=128,epochs=num_epoch, validation_data=(xval, yval),verbose=1)\n",
        "# loss_acc = model.evaluate(xTest, yTest, verbose=0)\n",
        "# print(\"\\nTest data loss = %0.4f  accuracy = %0.2f%%\" % \\\n",
        "#     (loss_acc[0], loss_acc[1]*100) )\n",
        "datagen.fit(xTrain)\n",
        "\n",
        "model = Sequential()\n",
        "    # # model.add(Conv2D(args['num_filter'][0], args['num_filter'][0], activation=args['activation'], input_shape=(4,7,1)))\n",
        "model.add(Conv2D(filter[0],(filter_size[0],filter_size[0]), activation='relu', input_shape=(200,200,1)))\n",
        "model.add(MaxPooling2D(pool_size=(2, 2)))\n",
        "model.add(Dropout(0.5))\n",
        "model.add(BatchNormalization())\n",
        "model.add(Conv2D(filter[1],(filter_size[1],filter_size[1]), activation='relu'))\n",
        "model.add(MaxPooling2D(pool_size=(2, 2)))\n",
        "model.add(Dropout(0.5))\n",
        "model.add(BatchNormalization())\n",
        "model.add(Conv2D(filter[2],(filter_size[2],filter_size[2]), activation='relu'))\n",
        "model.add(MaxPooling2D(pool_size=(2, 2)))\n",
        "model.add(BatchNormalization())\n",
        "model.add(Dropout(0.5))\n",
        "model.add(BatchNormalization())\n",
        "model.add(Conv2D(filter[3],(filter_size[3],filter_size[3]), activation='relu'))\n",
        "model.add(MaxPooling2D(pool_size=(2, 2)))\n",
        "model.add(Dropout(0.5))\n",
        "model.add(BatchNormalization())\n",
        "model.add(Conv2D(filter[4],(filter_size[4],filter_size[4]), activation='relu'))\n",
        "model.add(MaxPooling2D(pool_size=(2, 2)))\n",
        "model.add(Dropout(0.5))\n",
        "model.add(BatchNormalization())\n",
        "model.add(Flatten())\n",
        "model.add(Dense(num_neurons, activation='relu'))\n",
        "model.add(Dense(10, activation='softmax'))\n",
        "model.compile(loss=tf.keras.losses.CategoricalCrossentropy(), optimizer=\"adam\", metrics=['acc'])\n",
        "model.summary()\n",
        "    # model.fit(xTrain, yTrain, batch_size=128,epochs=num_epoch, validation_data=(xval, yval),verbose=1)\n",
        "model.fit_generator(datagen.flow(xTrain, yTrain, batch_size=128), epochs = num_epoch, verbose=1, validation_data=(xval, yval))\n",
        "loss_acc = model.evaluate(xTest, yTest, verbose=0)\n",
        "print(\"\\nTest data loss = %0.4f  accuracy = %0.2f%%\" % \\\n",
        "    (loss_acc[0], loss_acc[1]*100) )"
      ],
      "execution_count": 5,
      "outputs": [
        {
          "output_type": "stream",
          "text": [
            "Model: \"sequential\"\n",
            "_________________________________________________________________\n",
            "Layer (type)                 Output Shape              Param #   \n",
            "=================================================================\n",
            "conv2d (Conv2D)              (None, 192, 192, 64)      5248      \n",
            "_________________________________________________________________\n",
            "max_pooling2d (MaxPooling2D) (None, 96, 96, 64)        0         \n",
            "_________________________________________________________________\n",
            "dropout (Dropout)            (None, 96, 96, 64)        0         \n",
            "_________________________________________________________________\n",
            "batch_normalization (BatchNo (None, 96, 96, 64)        256       \n",
            "_________________________________________________________________\n",
            "conv2d_1 (Conv2D)            (None, 89, 89, 64)        262208    \n",
            "_________________________________________________________________\n",
            "max_pooling2d_1 (MaxPooling2 (None, 44, 44, 64)        0         \n",
            "_________________________________________________________________\n",
            "dropout_1 (Dropout)          (None, 44, 44, 64)        0         \n",
            "_________________________________________________________________\n",
            "batch_normalization_1 (Batch (None, 44, 44, 64)        256       \n",
            "_________________________________________________________________\n",
            "conv2d_2 (Conv2D)            (None, 38, 38, 32)        100384    \n",
            "_________________________________________________________________\n",
            "max_pooling2d_2 (MaxPooling2 (None, 19, 19, 32)        0         \n",
            "_________________________________________________________________\n",
            "batch_normalization_2 (Batch (None, 19, 19, 32)        128       \n",
            "_________________________________________________________________\n",
            "dropout_2 (Dropout)          (None, 19, 19, 32)        0         \n",
            "_________________________________________________________________\n",
            "batch_normalization_3 (Batch (None, 19, 19, 32)        128       \n",
            "_________________________________________________________________\n",
            "conv2d_3 (Conv2D)            (None, 14, 14, 32)        36896     \n",
            "_________________________________________________________________\n",
            "max_pooling2d_3 (MaxPooling2 (None, 7, 7, 32)          0         \n",
            "_________________________________________________________________\n",
            "dropout_3 (Dropout)          (None, 7, 7, 32)          0         \n",
            "_________________________________________________________________\n",
            "batch_normalization_4 (Batch (None, 7, 7, 32)          128       \n",
            "_________________________________________________________________\n",
            "conv2d_4 (Conv2D)            (None, 3, 3, 16)          12816     \n",
            "_________________________________________________________________\n",
            "max_pooling2d_4 (MaxPooling2 (None, 1, 1, 16)          0         \n",
            "_________________________________________________________________\n",
            "dropout_4 (Dropout)          (None, 1, 1, 16)          0         \n",
            "_________________________________________________________________\n",
            "batch_normalization_5 (Batch (None, 1, 1, 16)          64        \n",
            "_________________________________________________________________\n",
            "flatten (Flatten)            (None, 16)                0         \n",
            "_________________________________________________________________\n",
            "dense (Dense)                (None, 100)               1700      \n",
            "_________________________________________________________________\n",
            "dense_1 (Dense)              (None, 10)                1010      \n",
            "=================================================================\n",
            "Total params: 421,222\n",
            "Trainable params: 420,742\n",
            "Non-trainable params: 480\n",
            "_________________________________________________________________\n"
          ],
          "name": "stdout"
        },
        {
          "output_type": "stream",
          "text": [
            "WARNING: Logging before flag parsing goes to stderr.\n",
            "W0414 07:37:34.800971 140586070878080 deprecation.py:323] From <ipython-input-5-8b8a43e455a3>:66: fit_generator (from tensorflow.python.keras.engine.training) is deprecated and will be removed in a future version.\n",
            "Instructions for updating:\n",
            "Please use Model.fit, which supports generators.\n",
            "W0414 07:37:35.093739 140586070878080 data_adapter.py:1091] sample_weight modes were coerced from\n",
            "  ...\n",
            "    to  \n",
            "  ['...']\n"
          ],
          "name": "stderr"
        },
        {
          "output_type": "stream",
          "text": [
            "Train for 63 steps, validate on 2000 samples\n",
            "63/63 [==============================] - 36s 567ms/step - loss: 2.3509 - acc: 0.0976 - val_loss: 2.3040 - val_acc: 0.0980\n",
            "\n",
            "Test data loss = 2.3037  accuracy = 10.00%\n"
          ],
          "name": "stdout"
        }
      ]
    },
    {
      "cell_type": "code",
      "metadata": {
        "colab": {
          "base_uri": "https://localhost:8080/"
        },
        "id": "LGdCssDmSbgm",
        "outputId": "b51b8b14-325e-4461-e966-fc1bfea8a36d"
      },
      "source": [
        " loss_acc[1]*100"
      ],
      "execution_count": 6,
      "outputs": [
        {
          "output_type": "execute_result",
          "data": {
            "text/plain": [
              "10.000000149011612"
            ]
          },
          "metadata": {
            "tags": []
          },
          "execution_count": 6
        }
      ]
    },
    {
      "cell_type": "code",
      "metadata": {
        "id": "GRJ6zxUOtqQv"
      },
      "source": [
        "sweep_config = {\n",
        "    'method': 'random', #grid, random\n",
        "    'metric': {\n",
        "      'name': 'accuracy',\n",
        "      'goal': 'maximize'   \n",
        "    },\n",
        "    'parameters': {\n",
        "        'filter': {\n",
        "            'values': [[16,32,64,128,256],[64,32,64,32,16],[256,128,64,32,16],[16,32,32,64,32],[256,128,16,16,16]]\n",
        "        },\n",
        "        'filter_size': {\n",
        "            'values': [[5,5,3,3,2], [7,5,3,2,2],[9,7,7,5,3]]\n",
        "        },\n",
        "        'drop': {\n",
        "            'values': [0.2,0.3,0.5]\n",
        "        },\n",
        "        'num_neurons': {\n",
        "            'values': [64,128,200]\n",
        "        },\n",
        "        'num_epoch':{\n",
        "            'values' :[5,10]\n",
        "        }\n",
        "    }\n",
        "}\n"
      ],
      "execution_count": 6,
      "outputs": []
    },
    {
      "cell_type": "code",
      "metadata": {
        "id": "r2XgpBEKR7tU"
      },
      "source": [
        ""
      ],
      "execution_count": null,
      "outputs": []
    },
    {
      "cell_type": "code",
      "metadata": {
        "colab": {
          "base_uri": "https://localhost:8080/"
        },
        "id": "cMrsdWLuhn5y",
        "outputId": "202f7856-93a4-47f9-919c-abd9302c602e"
      },
      "source": [
        "sweep_id = wandb.sweep(sweep_config, entity=\"chaxin\", project=\"Assignment 1\")\n",
        "# Change here for the sweep to occur in your wnand"
      ],
      "execution_count": 7,
      "outputs": [
        {
          "output_type": "stream",
          "text": [
            "Create sweep with ID: 6pp9of98\n",
            "Sweep URL: https://wandb.ai/chaxin/Assignment%201/sweeps/6pp9of98\n"
          ],
          "name": "stdout"
        }
      ]
    },
    {
      "cell_type": "code",
      "metadata": {
        "id": "JdMvwvE5tX2G"
      },
      "source": [
        "def train():\n",
        "    steps = 0\n",
        "    # Default values for hyper-parameters we're going to sweep over\n",
        "    config_defaults = {\n",
        "        'filter':  [16,16,16,16,16],\n",
        "        'filter_size': [4,4,4,4,4],\n",
        "        'num_neurons': 100,\n",
        "        'drop' : 0.3,\n",
        "        'num_epoch' : 2\n",
        "    }\n",
        "\n",
        "    # Initialize a new wandb run\n",
        "    wandb.init(project='Assignment 1', entity='chaxin',config=config_defaults)\n",
        "    \n",
        "    \n",
        "    # Config is a variable that holds and saves hyperparameters and inputs\n",
        "    config      = wandb.config\n",
        "    filter      = config.filter\n",
        "    filter_size = config.filter_size\n",
        "    num_neurons = config.num_neurons\n",
        "    drop        = config.drop\n",
        "    num_epoch   = config.num_epoch  \n",
        "    #train_network(network, dataset, config.learning_rate, config.epochs, n_outputs)\n",
        "    datagen.fit(xTrain)\n",
        "\n",
        "    model = Sequential()\n",
        "    # # model.add(Conv2D(args['num_filter'][0], args['num_filter'][0], activation=args['activation'], input_shape=(4,7,1)))\n",
        "    model.add(Conv2D(filter[0],(filter_size[0],filter_size[0]), activation='relu', input_shape=(200,200,1)))\n",
        "    model.add(MaxPooling2D(pool_size=(2, 2)))\n",
        "    model.add(Dropout(0.5))\n",
        "    model.add(BatchNormalization())\n",
        "    model.add(Conv2D(filter[1],(filter_size[1],filter_size[1]), activation='relu'))\n",
        "    model.add(MaxPooling2D(pool_size=(2, 2)))\n",
        "    model.add(Dropout(0.5))\n",
        "    model.add(BatchNormalization())\n",
        "    model.add(Conv2D(filter[2],(filter_size[2],filter_size[2]), activation='relu'))\n",
        "    model.add(MaxPooling2D(pool_size=(2, 2)))\n",
        "    model.add(BatchNormalization())\n",
        "    model.add(Dropout(0.5))\n",
        "    model.add(BatchNormalization())\n",
        "    model.add(Conv2D(filter[3],(filter_size[3],filter_size[3]), activation='relu'))\n",
        "    model.add(MaxPooling2D(pool_size=(2, 2)))\n",
        "    model.add(Dropout(0.5))\n",
        "    model.add(BatchNormalization())\n",
        "    model.add(Conv2D(filter[4],(filter_size[4],filter_size[4]), activation='relu'))\n",
        "    model.add(MaxPooling2D(pool_size=(2, 2)))\n",
        "    model.add(Dropout(0.5))\n",
        "    model.add(BatchNormalization())\n",
        "    model.add(Flatten())\n",
        "    model.add(Dense(num_neurons, activation='relu'))\n",
        "    model.add(Dense(10, activation='softmax'))\n",
        "    model.compile(loss=tf.keras.losses.CategoricalCrossentropy(), optimizer=\"adam\", metrics=['acc'])\n",
        "    model.summary()\n",
        "    # model.fit(xTrain, yTrain, batch_size=128,epochs=num_epoch, validation_data=(xval, yval),verbose=1)\n",
        "    model.fit_generator(datagen.flow(xTrain, yTrain, batch_size=16), epochs = num_epoch, verbose=1, validation_data=(xval, yval))\n",
        "    loss_acc = model.evaluate(xTest, yTest, verbose=0)\n",
        "    print(\"\\nTest data loss = %0.4f  accuracy = %0.2f%%\" % \\\n",
        "        (loss_acc[0], loss_acc[1]*100) )\n",
        "    wandb.log({\"accuracy\": loss_acc[1]*100,\"steps\":num_epoch,\"loss\":loss_acc[0],\"dropout\":drop},)\n"
      ],
      "execution_count": 8,
      "outputs": []
    },
    {
      "cell_type": "code",
      "metadata": {
        "id": "gOfFKXOYlC8n",
        "colab": {
          "base_uri": "https://localhost:8080/"
        },
        "outputId": "9d6c3e7a-5feb-4711-dae1-e61463b6a6f0"
      },
      "source": [
        "sweep_id"
      ],
      "execution_count": 23,
      "outputs": [
        {
          "output_type": "execute_result",
          "data": {
            "text/plain": [
              "u'df4lxho8'"
            ]
          },
          "metadata": {
            "tags": []
          },
          "execution_count": 23
        }
      ]
    },
    {
      "cell_type": "code",
      "metadata": {
        "id": "vuYYFl9viCNB"
      },
      "source": [
        "sweep_id ='5iit5mkn'"
      ],
      "execution_count": 9,
      "outputs": []
    },
    {
      "cell_type": "code",
      "metadata": {
        "colab": {
          "base_uri": "https://localhost:8080/",
          "height": 1000,
          "referenced_widgets": [
            "a14ca476529a4cc9900bc8c90df5a1c1",
            "1cea6ace087647e1922f9b355968b8e5",
            "60b74486b325487dadbb881526b9144a",
            "079fca2053ad400086245c503b1bdd90",
            "a551fca505bc492bb009f1d4ec7c47eb",
            "b5b9806970fb47c0aebf1e0d11da9b44",
            "a128b97ec1e5404cbde033021c1c6038",
            "e59f5932b5494957b61f59ca6c19bea0"
          ]
        },
        "id": "l9dy3B30xlWm",
        "outputId": "19ed0a5d-5978-4ab1-e8b6-027de9ce2933"
      },
      "source": [
        "wandb.agent(sweep_id, train)"
      ],
      "execution_count": null,
      "outputs": [
        {
          "output_type": "stream",
          "text": [
            "wandb: Agent Starting Run: 6vkgrvrz with config:\n",
            "wandb: \tfilter: [16, 32, 64, 128, 256]\n",
            "wandb: \tfilter_size: [9, 7, 7, 5, 3]\n",
            "wandb: \tdrop: 0.3\n",
            "wandb: \tnum_neurons: 64\n",
            "wandb: \tnum_epoch: 10\n",
            "wandb: WARNING Ignored wandb.init() arg project when running a sweep\n",
            "wandb: WARNING Ignored wandb.init() arg entity when running a sweep\n"
          ],
          "name": "stderr"
        },
        {
          "output_type": "stream",
          "text": [
            "('bad thread2', 'Thread-6')\n"
          ],
          "name": "stdout"
        },
        {
          "output_type": "display_data",
          "data": {
            "text/plain": [
              "<IPython.core.display.HTML object>"
            ],
            "text/html": [
              "\n",
              "                Tracking run with wandb version 0.10.26<br/>\n",
              "                Syncing run <strong style=\"color:#cdcd00\">dainty-sweep-53</strong> to <a href=\"https://wandb.ai\" target=\"_blank\">Weights & Biases</a> <a href=\"https://docs.wandb.com/integrations/jupyter.html\" target=\"_blank\">(Documentation)</a>.<br/>\n",
              "                Project page: <a href=\"https://wandb.ai/chaxin/Assignment%201\" target=\"_blank\">https://wandb.ai/chaxin/Assignment%201</a><br/>\n",
              "                Sweep page: <a href=\"https://wandb.ai/chaxin/Assignment%201/sweeps/5iit5mkn\" target=\"_blank\">https://wandb.ai/chaxin/Assignment%201/sweeps/5iit5mkn</a><br/>\n",
              "Run page: <a href=\"https://wandb.ai/chaxin/Assignment%201/runs/6vkgrvrz\" target=\"_blank\">https://wandb.ai/chaxin/Assignment%201/runs/6vkgrvrz</a><br/>\n",
              "                Run data is saved locally in <code>/content/drive/My Drive/Colab Notebooks/wandb/run-20210414_192043-6vkgrvrz</code><br/><br/>\n",
              "            "
            ]
          },
          "metadata": {
            "tags": []
          }
        },
        {
          "output_type": "stream",
          "text": [
            "Model: \"sequential\"\n",
            "_________________________________________________________________\n",
            "Layer (type)                 Output Shape              Param #   \n",
            "=================================================================\n",
            "conv2d (Conv2D)              (None, 192, 192, 16)      1312      \n",
            "_________________________________________________________________\n",
            "max_pooling2d (MaxPooling2D) (None, 96, 96, 16)        0         \n",
            "_________________________________________________________________\n",
            "dropout (Dropout)            (None, 96, 96, 16)        0         \n",
            "_________________________________________________________________\n",
            "batch_normalization (BatchNo (None, 96, 96, 16)        64        \n",
            "_________________________________________________________________\n",
            "conv2d_1 (Conv2D)            (None, 90, 90, 32)        25120     \n",
            "_________________________________________________________________\n",
            "max_pooling2d_1 (MaxPooling2 (None, 45, 45, 32)        0         \n",
            "_________________________________________________________________\n",
            "dropout_1 (Dropout)          (None, 45, 45, 32)        0         \n",
            "_________________________________________________________________\n",
            "batch_normalization_1 (Batch (None, 45, 45, 32)        128       \n",
            "_________________________________________________________________\n",
            "conv2d_2 (Conv2D)            (None, 39, 39, 64)        100416    \n",
            "_________________________________________________________________\n",
            "max_pooling2d_2 (MaxPooling2 (None, 19, 19, 64)        0         \n",
            "_________________________________________________________________\n",
            "batch_normalization_2 (Batch (None, 19, 19, 64)        256       \n",
            "_________________________________________________________________\n",
            "dropout_2 (Dropout)          (None, 19, 19, 64)        0         \n",
            "_________________________________________________________________\n",
            "batch_normalization_3 (Batch (None, 19, 19, 64)        256       \n",
            "_________________________________________________________________\n",
            "conv2d_3 (Conv2D)            (None, 15, 15, 128)       204928    \n",
            "_________________________________________________________________\n",
            "max_pooling2d_3 (MaxPooling2 (None, 7, 7, 128)         0         \n",
            "_________________________________________________________________\n",
            "dropout_3 (Dropout)          (None, 7, 7, 128)         0         \n",
            "_________________________________________________________________\n",
            "batch_normalization_4 (Batch (None, 7, 7, 128)         512       \n",
            "_________________________________________________________________\n",
            "conv2d_4 (Conv2D)            (None, 5, 5, 256)         295168    \n",
            "_________________________________________________________________\n",
            "max_pooling2d_4 (MaxPooling2 (None, 2, 2, 256)         0         \n",
            "_________________________________________________________________\n",
            "dropout_4 (Dropout)          (None, 2, 2, 256)         0         \n",
            "_________________________________________________________________\n",
            "batch_normalization_5 (Batch (None, 2, 2, 256)         1024      \n",
            "_________________________________________________________________\n",
            "flatten (Flatten)            (None, 1024)              0         \n",
            "_________________________________________________________________\n",
            "dense (Dense)                (None, 64)                65600     \n",
            "_________________________________________________________________\n",
            "dense_1 (Dense)              (None, 10)                650       \n",
            "=================================================================\n",
            "Total params: 695,434\n",
            "Trainable params: 694,314\n",
            "Non-trainable params: 1,120\n",
            "_________________________________________________________________\n"
          ],
          "name": "stdout"
        },
        {
          "output_type": "stream",
          "text": [
            "WARNING: Logging before flag parsing goes to stderr.\n",
            "W0414 19:20:54.959897 140564730197760 deprecation.py:323] From <ipython-input-8-0a0836f86357>:55: fit_generator (from tensorflow.python.keras.engine.training) is deprecated and will be removed in a future version.\n",
            "Instructions for updating:\n",
            "Please use Model.fit, which supports generators.\n",
            "W0414 19:20:55.031871 140564730197760 data_adapter.py:1091] sample_weight modes were coerced from\n",
            "  ...\n",
            "    to  \n",
            "  ['...']\n"
          ],
          "name": "stderr"
        },
        {
          "output_type": "stream",
          "text": [
            "Train for 500 steps, validate on 2000 samples\n",
            "Epoch 1/10\n",
            "500/500 [==============================] - 44s 89ms/step - loss: 2.5496 - acc: 0.1023 - val_loss: 2.3172 - val_acc: 0.1015\n",
            "Epoch 2/10\n",
            "500/500 [==============================] - 39s 78ms/step - loss: 2.3487 - acc: 0.1036 - val_loss: 2.3025 - val_acc: 0.0950\n",
            "Epoch 3/10\n",
            "500/500 [==============================] - 39s 78ms/step - loss: 2.3104 - acc: 0.1028 - val_loss: 2.3091 - val_acc: 0.0970\n",
            "Epoch 4/10\n",
            "500/500 [==============================] - 40s 80ms/step - loss: 2.3051 - acc: 0.1028 - val_loss: 2.3045 - val_acc: 0.0990\n",
            "Epoch 5/10\n",
            "500/500 [==============================] - 39s 79ms/step - loss: 2.3027 - acc: 0.1104 - val_loss: 2.3036 - val_acc: 0.1090\n",
            "Epoch 6/10\n",
            "500/500 [==============================] - 40s 79ms/step - loss: 2.3009 - acc: 0.1069 - val_loss: 2.3026 - val_acc: 0.1150\n",
            "Epoch 7/10\n",
            "500/500 [==============================] - 39s 79ms/step - loss: 2.3013 - acc: 0.1095 - val_loss: 2.2990 - val_acc: 0.1060\n",
            "Epoch 8/10\n",
            "500/500 [==============================] - 39s 79ms/step - loss: 2.2994 - acc: 0.1119 - val_loss: 2.2984 - val_acc: 0.1130\n",
            "Epoch 9/10\n",
            "500/500 [==============================] - 39s 79ms/step - loss: 2.2981 - acc: 0.1113 - val_loss: 2.2974 - val_acc: 0.1165\n",
            "Epoch 10/10\n",
            "500/500 [==============================] - 39s 78ms/step - loss: 2.2990 - acc: 0.1121 - val_loss: 2.2958 - val_acc: 0.1195\n",
            "\n",
            "Test data loss = 2.2969  accuracy = 11.35%\n"
          ],
          "name": "stdout"
        },
        {
          "output_type": "stream",
          "text": [
            "No handlers could be found for logger \"wandb.jupyter\"\n"
          ],
          "name": "stderr"
        },
        {
          "output_type": "display_data",
          "data": {
            "text/plain": [
              "<IPython.core.display.HTML object>"
            ],
            "text/html": [
              "<br/>Waiting for W&B process to finish, PID 2050<br/>Program ended successfully."
            ]
          },
          "metadata": {
            "tags": []
          }
        },
        {
          "output_type": "display_data",
          "data": {
            "application/vnd.jupyter.widget-view+json": {
              "model_id": "a14ca476529a4cc9900bc8c90df5a1c1",
              "version_minor": 0,
              "version_major": 2
            },
            "text/plain": [
              "VkJveChjaGlsZHJlbj0oTGFiZWwodmFsdWU9dScgMC4wME1CIG9mIDAuMDBNQiB1cGxvYWRlZCAoMC4wME1CIGRlZHVwZWQpXHInKSwgRmxvYXRQcm9ncmVzcyh2YWx1ZT0xLjAsIG1heD0xLjDigKY=\n"
            ]
          },
          "metadata": {
            "tags": []
          }
        },
        {
          "output_type": "display_data",
          "data": {
            "text/plain": [
              "<IPython.core.display.HTML object>"
            ],
            "text/html": [
              "Find user logs for this run at: <code>/content/drive/My Drive/Colab Notebooks/wandb/run-20210414_192043-6vkgrvrz/logs/debug.log</code>"
            ]
          },
          "metadata": {
            "tags": []
          }
        },
        {
          "output_type": "display_data",
          "data": {
            "text/plain": [
              "<IPython.core.display.HTML object>"
            ],
            "text/html": [
              "Find internal logs for this run at: <code>/content/drive/My Drive/Colab Notebooks/wandb/run-20210414_192043-6vkgrvrz/logs/debug-internal.log</code>"
            ]
          },
          "metadata": {
            "tags": []
          }
        },
        {
          "output_type": "display_data",
          "data": {
            "text/plain": [
              "<IPython.core.display.HTML object>"
            ],
            "text/html": [
              "<h3>Run summary:</h3><br/><style>\n",
              "    table.wandb td:nth-child(1) { padding: 0 10px; text-align: right }\n",
              "    </style><table class=\"wandb\">\n",
              "<tr><td>loss</td><td>2.29689</td></tr><tr><td>_timestamp</td><td>1618428455</td></tr><tr><td>_step</td><td>0</td></tr><tr><td>dropout</td><td>0.3</td></tr><tr><td>steps</td><td>10</td></tr><tr><td>_runtime</td><td>412</td></tr><tr><td>accuracy</td><td>11.35</td></tr></table>"
            ]
          },
          "metadata": {
            "tags": []
          }
        },
        {
          "output_type": "stream",
          "text": [
            "wandb: ERROR Run 6vkgrvrz errored: UnicodeEncodeError('ascii', u'\\u2581', 0, 1, 'ordinal not in range(128)')\n",
            "wandb: Agent Starting Run: bj0e98ar with config:\n",
            "wandb: \tfilter: [256, 128, 16, 16, 16]\n",
            "wandb: \tfilter_size: [9, 7, 7, 5, 3]\n",
            "wandb: \tdrop: 0.3\n",
            "wandb: \tnum_neurons: 64\n",
            "wandb: \tnum_epoch: 10\n",
            "wandb: WARNING Ignored wandb.init() arg project when running a sweep\n",
            "wandb: WARNING Ignored wandb.init() arg entity when running a sweep\n"
          ],
          "name": "stderr"
        },
        {
          "output_type": "stream",
          "text": [
            "('bad thread2', 'Thread-10')\n"
          ],
          "name": "stdout"
        },
        {
          "output_type": "display_data",
          "data": {
            "text/plain": [
              "<IPython.core.display.HTML object>"
            ],
            "text/html": [
              "\n",
              "                Tracking run with wandb version 0.10.26<br/>\n",
              "                Syncing run <strong style=\"color:#cdcd00\">laced-sweep-54</strong> to <a href=\"https://wandb.ai\" target=\"_blank\">Weights & Biases</a> <a href=\"https://docs.wandb.com/integrations/jupyter.html\" target=\"_blank\">(Documentation)</a>.<br/>\n",
              "                Project page: <a href=\"https://wandb.ai/chaxin/Assignment%201\" target=\"_blank\">https://wandb.ai/chaxin/Assignment%201</a><br/>\n",
              "                Sweep page: <a href=\"https://wandb.ai/chaxin/Assignment%201/sweeps/5iit5mkn\" target=\"_blank\">https://wandb.ai/chaxin/Assignment%201/sweeps/5iit5mkn</a><br/>\n",
              "Run page: <a href=\"https://wandb.ai/chaxin/Assignment%201/runs/bj0e98ar\" target=\"_blank\">https://wandb.ai/chaxin/Assignment%201/runs/bj0e98ar</a><br/>\n",
              "                Run data is saved locally in <code>/content/drive/My Drive/Colab Notebooks/wandb/run-20210414_192742-bj0e98ar</code><br/><br/>\n",
              "            "
            ]
          },
          "metadata": {
            "tags": []
          }
        },
        {
          "output_type": "stream",
          "text": [
            "Model: \"sequential\"\n",
            "_________________________________________________________________\n",
            "Layer (type)                 Output Shape              Param #   \n",
            "=================================================================\n",
            "conv2d (Conv2D)              (None, 192, 192, 256)     20992     \n",
            "_________________________________________________________________\n",
            "max_pooling2d (MaxPooling2D) (None, 96, 96, 256)       0         \n",
            "_________________________________________________________________\n",
            "dropout (Dropout)            (None, 96, 96, 256)       0         \n",
            "_________________________________________________________________\n",
            "batch_normalization (BatchNo (None, 96, 96, 256)       1024      \n",
            "_________________________________________________________________\n",
            "conv2d_1 (Conv2D)            (None, 90, 90, 128)       1605760   \n",
            "_________________________________________________________________\n",
            "max_pooling2d_1 (MaxPooling2 (None, 45, 45, 128)       0         \n",
            "_________________________________________________________________\n",
            "dropout_1 (Dropout)          (None, 45, 45, 128)       0         \n",
            "_________________________________________________________________\n",
            "batch_normalization_1 (Batch (None, 45, 45, 128)       512       \n",
            "_________________________________________________________________\n",
            "conv2d_2 (Conv2D)            (None, 39, 39, 16)        100368    \n",
            "_________________________________________________________________\n",
            "max_pooling2d_2 (MaxPooling2 (None, 19, 19, 16)        0         \n",
            "_________________________________________________________________\n",
            "batch_normalization_2 (Batch (None, 19, 19, 16)        64        \n",
            "_________________________________________________________________\n",
            "dropout_2 (Dropout)          (None, 19, 19, 16)        0         \n",
            "_________________________________________________________________\n",
            "batch_normalization_3 (Batch (None, 19, 19, 16)        64        \n",
            "_________________________________________________________________\n",
            "conv2d_3 (Conv2D)            (None, 15, 15, 16)        6416      \n",
            "_________________________________________________________________\n",
            "max_pooling2d_3 (MaxPooling2 (None, 7, 7, 16)          0         \n",
            "_________________________________________________________________\n",
            "dropout_3 (Dropout)          (None, 7, 7, 16)          0         \n",
            "_________________________________________________________________\n",
            "batch_normalization_4 (Batch (None, 7, 7, 16)          64        \n",
            "_________________________________________________________________\n",
            "conv2d_4 (Conv2D)            (None, 5, 5, 16)          2320      \n",
            "_________________________________________________________________\n",
            "max_pooling2d_4 (MaxPooling2 (None, 2, 2, 16)          0         \n",
            "_________________________________________________________________\n",
            "dropout_4 (Dropout)          (None, 2, 2, 16)          0         \n",
            "_________________________________________________________________\n",
            "batch_normalization_5 (Batch (None, 2, 2, 16)          64        \n",
            "_________________________________________________________________\n",
            "flatten (Flatten)            (None, 64)                0         \n",
            "_________________________________________________________________\n",
            "dense (Dense)                (None, 64)                4160      \n",
            "_________________________________________________________________\n",
            "dense_1 (Dense)              (None, 10)                650       \n",
            "=================================================================\n",
            "Total params: 1,742,458\n",
            "Trainable params: 1,741,562\n",
            "Non-trainable params: 896\n",
            "_________________________________________________________________\n"
          ],
          "name": "stdout"
        },
        {
          "output_type": "stream",
          "text": [
            "W0414 19:27:45.838980 140564730197760 data_adapter.py:1091] sample_weight modes were coerced from\n",
            "  ...\n",
            "    to  \n",
            "  ['...']\n"
          ],
          "name": "stderr"
        },
        {
          "output_type": "stream",
          "text": [
            "Train for 500 steps, validate on 2000 samples\n",
            "Epoch 1/10\n",
            "500/500 [==============================] - 300s 600ms/step - loss: 2.4106 - acc: 0.0983 - val_loss: 2.3065 - val_acc: 0.1040\n",
            "Epoch 2/10\n",
            "500/500 [==============================] - 293s 585ms/step - loss: 2.3372 - acc: 0.1015 - val_loss: 2.3081 - val_acc: 0.1055\n",
            "Epoch 3/10\n",
            "500/500 [==============================] - 292s 584ms/step - loss: 2.3239 - acc: 0.1063 - val_loss: 2.3001 - val_acc: 0.1155\n",
            "Epoch 4/10\n",
            "500/500 [==============================] - 292s 584ms/step - loss: 2.3134 - acc: 0.1070 - val_loss: 2.2981 - val_acc: 0.1170\n",
            "Epoch 5/10\n",
            "302/500 [=================>............] - ETA: 1:50 - loss: 2.3064 - acc: 0.1118"
          ],
          "name": "stdout"
        }
      ]
    },
    {
      "cell_type": "code",
      "metadata": {
        "id": "bLoOu18tiL1A"
      },
      "source": [
        ""
      ],
      "execution_count": null,
      "outputs": []
    }
  ]
}