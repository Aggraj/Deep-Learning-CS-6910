{
  "nbformat": 4,
  "nbformat_minor": 0,
  "metadata": {
    "colab": {
      "name": "RBM_Gibbs_Sampling.ipynb",
      "provenance": [],
      "authorship_tag": "ABX9TyMkT19yd4+sAItK0pnfGmpf",
      "include_colab_link": true
    },
    "kernelspec": {
      "name": "python3",
      "display_name": "Python 3"
    },
    "language_info": {
      "name": "python"
    },
    "widgets": {
      "application/vnd.jupyter.widget-state+json": {
        "abcbc1fd1c894863a4cf33e9eae68a5e": {
          "model_module": "@jupyter-widgets/controls",
          "model_name": "VBoxModel",
          "state": {
            "_view_name": "VBoxView",
            "_dom_classes": [],
            "_model_name": "VBoxModel",
            "_view_module": "@jupyter-widgets/controls",
            "_model_module_version": "1.5.0",
            "_view_count": null,
            "_view_module_version": "1.5.0",
            "box_style": "",
            "layout": "IPY_MODEL_c4621e6ca37448e4beef9acc91b102ca",
            "_model_module": "@jupyter-widgets/controls",
            "children": [
              "IPY_MODEL_0b6b90754a664bd08a58a242436ee40e",
              "IPY_MODEL_43000fe5a6c847168966e772f4298759"
            ]
          }
        },
        "c4621e6ca37448e4beef9acc91b102ca": {
          "model_module": "@jupyter-widgets/base",
          "model_name": "LayoutModel",
          "state": {
            "_view_name": "LayoutView",
            "grid_template_rows": null,
            "right": null,
            "justify_content": null,
            "_view_module": "@jupyter-widgets/base",
            "overflow": null,
            "_model_module_version": "1.2.0",
            "_view_count": null,
            "flex_flow": null,
            "width": null,
            "min_width": null,
            "border": null,
            "align_items": null,
            "bottom": null,
            "_model_module": "@jupyter-widgets/base",
            "top": null,
            "grid_column": null,
            "overflow_y": null,
            "overflow_x": null,
            "grid_auto_flow": null,
            "grid_area": null,
            "grid_template_columns": null,
            "flex": null,
            "_model_name": "LayoutModel",
            "justify_items": null,
            "grid_row": null,
            "max_height": null,
            "align_content": null,
            "visibility": null,
            "align_self": null,
            "height": null,
            "min_height": null,
            "padding": null,
            "grid_auto_rows": null,
            "grid_gap": null,
            "max_width": null,
            "order": null,
            "_view_module_version": "1.2.0",
            "grid_template_areas": null,
            "object_position": null,
            "object_fit": null,
            "grid_auto_columns": null,
            "margin": null,
            "display": null,
            "left": null
          }
        },
        "0b6b90754a664bd08a58a242436ee40e": {
          "model_module": "@jupyter-widgets/controls",
          "model_name": "LabelModel",
          "state": {
            "_view_name": "LabelView",
            "style": "IPY_MODEL_8a2c6e4eb477457c84ee51ccdda1c923",
            "_dom_classes": [],
            "description": "",
            "_model_name": "LabelModel",
            "placeholder": "​",
            "_view_module": "@jupyter-widgets/controls",
            "_model_module_version": "1.5.0",
            "value": " 0.01MB of 0.01MB uploaded (0.00MB deduped)\r",
            "_view_count": null,
            "_view_module_version": "1.5.0",
            "description_tooltip": null,
            "_model_module": "@jupyter-widgets/controls",
            "layout": "IPY_MODEL_19d9863f9cc1495bb5dcb45529152f65"
          }
        },
        "43000fe5a6c847168966e772f4298759": {
          "model_module": "@jupyter-widgets/controls",
          "model_name": "FloatProgressModel",
          "state": {
            "_view_name": "ProgressView",
            "style": "IPY_MODEL_d3ef740be2634882882f58996abceb88",
            "_dom_classes": [],
            "description": "",
            "_model_name": "FloatProgressModel",
            "bar_style": "",
            "max": 1,
            "_view_module": "@jupyter-widgets/controls",
            "_model_module_version": "1.5.0",
            "value": 1,
            "_view_count": null,
            "_view_module_version": "1.5.0",
            "orientation": "horizontal",
            "min": 0,
            "description_tooltip": null,
            "_model_module": "@jupyter-widgets/controls",
            "layout": "IPY_MODEL_d5dc4891908344299ed3d2109b18a42f"
          }
        },
        "8a2c6e4eb477457c84ee51ccdda1c923": {
          "model_module": "@jupyter-widgets/controls",
          "model_name": "DescriptionStyleModel",
          "state": {
            "_view_name": "StyleView",
            "_model_name": "DescriptionStyleModel",
            "description_width": "",
            "_view_module": "@jupyter-widgets/base",
            "_model_module_version": "1.5.0",
            "_view_count": null,
            "_view_module_version": "1.2.0",
            "_model_module": "@jupyter-widgets/controls"
          }
        },
        "19d9863f9cc1495bb5dcb45529152f65": {
          "model_module": "@jupyter-widgets/base",
          "model_name": "LayoutModel",
          "state": {
            "_view_name": "LayoutView",
            "grid_template_rows": null,
            "right": null,
            "justify_content": null,
            "_view_module": "@jupyter-widgets/base",
            "overflow": null,
            "_model_module_version": "1.2.0",
            "_view_count": null,
            "flex_flow": null,
            "width": null,
            "min_width": null,
            "border": null,
            "align_items": null,
            "bottom": null,
            "_model_module": "@jupyter-widgets/base",
            "top": null,
            "grid_column": null,
            "overflow_y": null,
            "overflow_x": null,
            "grid_auto_flow": null,
            "grid_area": null,
            "grid_template_columns": null,
            "flex": null,
            "_model_name": "LayoutModel",
            "justify_items": null,
            "grid_row": null,
            "max_height": null,
            "align_content": null,
            "visibility": null,
            "align_self": null,
            "height": null,
            "min_height": null,
            "padding": null,
            "grid_auto_rows": null,
            "grid_gap": null,
            "max_width": null,
            "order": null,
            "_view_module_version": "1.2.0",
            "grid_template_areas": null,
            "object_position": null,
            "object_fit": null,
            "grid_auto_columns": null,
            "margin": null,
            "display": null,
            "left": null
          }
        },
        "d3ef740be2634882882f58996abceb88": {
          "model_module": "@jupyter-widgets/controls",
          "model_name": "ProgressStyleModel",
          "state": {
            "_view_name": "StyleView",
            "_model_name": "ProgressStyleModel",
            "description_width": "",
            "_view_module": "@jupyter-widgets/base",
            "_model_module_version": "1.5.0",
            "_view_count": null,
            "_view_module_version": "1.2.0",
            "bar_color": null,
            "_model_module": "@jupyter-widgets/controls"
          }
        },
        "d5dc4891908344299ed3d2109b18a42f": {
          "model_module": "@jupyter-widgets/base",
          "model_name": "LayoutModel",
          "state": {
            "_view_name": "LayoutView",
            "grid_template_rows": null,
            "right": null,
            "justify_content": null,
            "_view_module": "@jupyter-widgets/base",
            "overflow": null,
            "_model_module_version": "1.2.0",
            "_view_count": null,
            "flex_flow": null,
            "width": null,
            "min_width": null,
            "border": null,
            "align_items": null,
            "bottom": null,
            "_model_module": "@jupyter-widgets/base",
            "top": null,
            "grid_column": null,
            "overflow_y": null,
            "overflow_x": null,
            "grid_auto_flow": null,
            "grid_area": null,
            "grid_template_columns": null,
            "flex": null,
            "_model_name": "LayoutModel",
            "justify_items": null,
            "grid_row": null,
            "max_height": null,
            "align_content": null,
            "visibility": null,
            "align_self": null,
            "height": null,
            "min_height": null,
            "padding": null,
            "grid_auto_rows": null,
            "grid_gap": null,
            "max_width": null,
            "order": null,
            "_view_module_version": "1.2.0",
            "grid_template_areas": null,
            "object_position": null,
            "object_fit": null,
            "grid_auto_columns": null,
            "margin": null,
            "display": null,
            "left": null
          }
        }
      }
    }
  },
  "cells": [
    {
      "cell_type": "markdown",
      "metadata": {
        "id": "view-in-github",
        "colab_type": "text"
      },
      "source": [
        "<a href=\"https://colab.research.google.com/github/Aggraj/Deep-Learning-CS-6910/blob/main/RBM_Gibbs_Sampling.ipynb\" target=\"_parent\"><img src=\"https://colab.research.google.com/assets/colab-badge.svg\" alt=\"Open In Colab\"/></a>"
      ]
    },
    {
      "cell_type": "markdown",
      "metadata": {
        "id": "iXKghDepGCtW"
      },
      "source": [
        "Import WandB "
      ]
    },
    {
      "cell_type": "code",
      "metadata": {
        "id": "s_77DO3ZE6uJ",
        "colab": {
          "base_uri": "https://localhost:8080/"
        },
        "outputId": "c9946bb8-f918-422a-bd76-d1fb41e713ff"
      },
      "source": [
        "!pip install wandb\n",
        "import wandb\n"
      ],
      "execution_count": 1,
      "outputs": [
        {
          "output_type": "stream",
          "text": [
            "Collecting wandb\n",
            "\u001b[?25l  Downloading https://files.pythonhosted.org/packages/98/5f/45439b4767334b868e1c8c35b1b0ba3747d8c21be77b79f09eed7aa3c72b/wandb-0.10.30-py2.py3-none-any.whl (1.8MB)\n",
            "\u001b[K     |████████████████████████████████| 1.8MB 3.9MB/s \n",
            "\u001b[?25hRequirement already satisfied: promise<3,>=2.0 in /usr/local/lib/python3.7/dist-packages (from wandb) (2.3)\n",
            "Requirement already satisfied: six>=1.13.0 in /usr/local/lib/python3.7/dist-packages (from wandb) (1.15.0)\n",
            "Requirement already satisfied: requests<3,>=2.0.0 in /usr/local/lib/python3.7/dist-packages (from wandb) (2.23.0)\n",
            "Requirement already satisfied: protobuf>=3.12.0 in /usr/local/lib/python3.7/dist-packages (from wandb) (3.12.4)\n",
            "Requirement already satisfied: python-dateutil>=2.6.1 in /usr/local/lib/python3.7/dist-packages (from wandb) (2.8.1)\n",
            "Collecting GitPython>=1.0.0\n",
            "\u001b[?25l  Downloading https://files.pythonhosted.org/packages/27/da/6f6224fdfc47dab57881fe20c0d1bc3122be290198ba0bf26a953a045d92/GitPython-3.1.17-py3-none-any.whl (166kB)\n",
            "\u001b[K     |████████████████████████████████| 174kB 45.7MB/s \n",
            "\u001b[?25hRequirement already satisfied: psutil>=5.0.0 in /usr/local/lib/python3.7/dist-packages (from wandb) (5.4.8)\n",
            "Requirement already satisfied: Click>=7.0 in /usr/local/lib/python3.7/dist-packages (from wandb) (7.1.2)\n",
            "Collecting docker-pycreds>=0.4.0\n",
            "  Downloading https://files.pythonhosted.org/packages/f5/e8/f6bd1eee09314e7e6dee49cbe2c5e22314ccdb38db16c9fc72d2fa80d054/docker_pycreds-0.4.0-py2.py3-none-any.whl\n",
            "Requirement already satisfied: PyYAML in /usr/local/lib/python3.7/dist-packages (from wandb) (3.13)\n",
            "Collecting configparser>=3.8.1\n",
            "  Downloading https://files.pythonhosted.org/packages/fd/01/ff260a18caaf4457eb028c96eeb405c4a230ca06c8ec9c1379f813caa52e/configparser-5.0.2-py3-none-any.whl\n",
            "Collecting shortuuid>=0.5.0\n",
            "  Downloading https://files.pythonhosted.org/packages/25/a6/2ecc1daa6a304e7f1b216f0896b26156b78e7c38e1211e9b798b4716c53d/shortuuid-1.0.1-py3-none-any.whl\n",
            "Collecting pathtools\n",
            "  Downloading https://files.pythonhosted.org/packages/e7/7f/470d6fcdf23f9f3518f6b0b76be9df16dcc8630ad409947f8be2eb0ed13a/pathtools-0.1.2.tar.gz\n",
            "Collecting subprocess32>=3.5.3\n",
            "\u001b[?25l  Downloading https://files.pythonhosted.org/packages/32/c8/564be4d12629b912ea431f1a50eb8b3b9d00f1a0b1ceff17f266be190007/subprocess32-3.5.4.tar.gz (97kB)\n",
            "\u001b[K     |████████████████████████████████| 102kB 8.5MB/s \n",
            "\u001b[?25hCollecting sentry-sdk>=0.4.0\n",
            "\u001b[?25l  Downloading https://files.pythonhosted.org/packages/1c/4a/a54b254f67d8f4052338d54ebe90126f200693440a93ef76d254d581e3ec/sentry_sdk-1.1.0-py2.py3-none-any.whl (131kB)\n",
            "\u001b[K     |████████████████████████████████| 133kB 36.0MB/s \n",
            "\u001b[?25hRequirement already satisfied: chardet<4,>=3.0.2 in /usr/local/lib/python3.7/dist-packages (from requests<3,>=2.0.0->wandb) (3.0.4)\n",
            "Requirement already satisfied: urllib3!=1.25.0,!=1.25.1,<1.26,>=1.21.1 in /usr/local/lib/python3.7/dist-packages (from requests<3,>=2.0.0->wandb) (1.24.3)\n",
            "Requirement already satisfied: idna<3,>=2.5 in /usr/local/lib/python3.7/dist-packages (from requests<3,>=2.0.0->wandb) (2.10)\n",
            "Requirement already satisfied: certifi>=2017.4.17 in /usr/local/lib/python3.7/dist-packages (from requests<3,>=2.0.0->wandb) (2020.12.5)\n",
            "Requirement already satisfied: setuptools in /usr/local/lib/python3.7/dist-packages (from protobuf>=3.12.0->wandb) (56.1.0)\n",
            "Collecting gitdb<5,>=4.0.1\n",
            "\u001b[?25l  Downloading https://files.pythonhosted.org/packages/ea/e8/f414d1a4f0bbc668ed441f74f44c116d9816833a48bf81d22b697090dba8/gitdb-4.0.7-py3-none-any.whl (63kB)\n",
            "\u001b[K     |████████████████████████████████| 71kB 7.7MB/s \n",
            "\u001b[?25hRequirement already satisfied: typing-extensions>=3.7.4.0; python_version < \"3.8\" in /usr/local/lib/python3.7/dist-packages (from GitPython>=1.0.0->wandb) (3.7.4.3)\n",
            "Collecting smmap<5,>=3.0.1\n",
            "  Downloading https://files.pythonhosted.org/packages/68/ee/d540eb5e5996eb81c26ceffac6ee49041d473bc5125f2aa995cf51ec1cf1/smmap-4.0.0-py2.py3-none-any.whl\n",
            "Building wheels for collected packages: pathtools, subprocess32\n",
            "  Building wheel for pathtools (setup.py) ... \u001b[?25l\u001b[?25hdone\n",
            "  Created wheel for pathtools: filename=pathtools-0.1.2-cp37-none-any.whl size=8786 sha256=6afcbe7702c1a8987becb74eb61996ed1344eb68968a1c67ba97641c4e8962fc\n",
            "  Stored in directory: /root/.cache/pip/wheels/0b/04/79/c3b0c3a0266a3cb4376da31e5bfe8bba0c489246968a68e843\n",
            "  Building wheel for subprocess32 (setup.py) ... \u001b[?25l\u001b[?25hdone\n",
            "  Created wheel for subprocess32: filename=subprocess32-3.5.4-cp37-none-any.whl size=6489 sha256=6d55e8675b8a36bd6c9111653581a9a7bd7b6e6d752d02faa3c4eb50f297bd87\n",
            "  Stored in directory: /root/.cache/pip/wheels/68/39/1a/5e402bdfdf004af1786c8b853fd92f8c4a04f22aad179654d1\n",
            "Successfully built pathtools subprocess32\n",
            "Installing collected packages: smmap, gitdb, GitPython, docker-pycreds, configparser, shortuuid, pathtools, subprocess32, sentry-sdk, wandb\n",
            "Successfully installed GitPython-3.1.17 configparser-5.0.2 docker-pycreds-0.4.0 gitdb-4.0.7 pathtools-0.1.2 sentry-sdk-1.1.0 shortuuid-1.0.1 smmap-4.0.0 subprocess32-3.5.4 wandb-0.10.30\n"
          ],
          "name": "stdout"
        }
      ]
    },
    {
      "cell_type": "code",
      "metadata": {
        "id": "KuyV1uN1FEr9"
      },
      "source": [
        "import numpy as np\n",
        "import matplotlib.pyplot as plt\n",
        "from keras.datasets import fashion_mnist\n",
        "from keras.datasets import mnist\n",
        "from sklearn.manifold import TSNE"
      ],
      "execution_count": 2,
      "outputs": []
    },
    {
      "cell_type": "markdown",
      "metadata": {
        "id": "kuRh8bzrGI1_"
      },
      "source": [
        "**Read the Fashion MNIST data set, divide the data set as train and validation. There are 10 class in the data set. Initialize all the variables e.g : number of hidden layer size, number of class etc**"
      ]
    },
    {
      "cell_type": "code",
      "metadata": {
        "id": "Q6a4hxqmFHW5",
        "colab": {
          "base_uri": "https://localhost:8080/"
        },
        "outputId": "60531a48-55da-48fc-97e7-05eb189ee8a1"
      },
      "source": [
        "# load the Fashion MNIST data set\n",
        "(x_train, y_train), (x_test, y_test) = fashion_mnist.load_data()\n",
        "class_type = ['T-shirt/top', 'Trouser', 'Pullover', 'Dress', 'Coat','Sandal', 'Shirt', 'Sneaker', 'Bag', 'Ankle boot'] \n",
        "\n",
        "Project='ASSIGNMENT 4'\n",
        "\n",
        "\n",
        "# Split the data set and assign the data values depending on thresholding\n",
        "X_train = np.array(x_train.reshape(x_train.shape[0], 784,1))         \n",
        "X_test  = np.array(x_test.reshape(x_test.shape[0], 784,1))           \n",
        "X_train = (X_train > 126) * 1                                        \n",
        "X_test  = (X_test > 126) * 1                                         \n",
        "X_val = X_train[-15000:]                                             \n",
        "X_train = X_train[0:45000]                                           \n",
        "\n",
        "Y_train = np.zeros([len(y_train),10,1])\n",
        "Y_test = np.zeros([len(y_test),10,1])\n",
        "\n",
        "for i in range(len(y_train)):                                       \n",
        "  y = np.zeros([10, 1])\n",
        "  y[y_train[i]] = 1.0\n",
        "  Y_train[i] = y\n",
        "\n",
        "for i in range(len(y_test)):                                         \n",
        "  y = np.zeros([10, 1])\n",
        "  y[y_test[i]] = 1.0\n",
        "  Y_test[i] = y                                                      \n",
        "\n",
        "Y_val = Y_train[-15000:]                                             \n",
        "Y_train = Y_train[0:45000]        \n",
        "\n",
        "\n",
        "n_vis = X_train.shape[1]                                         \n",
        "n_train = X_train.shape[0]                                  \n",
        "n_val = X_val.shape[0]                                      \n",
        "n_test = X_test.shape[0]                                    \n",
        "n_hidden = 64                 \n",
        "n_class = 10\n"
      ],
      "execution_count": 3,
      "outputs": [
        {
          "output_type": "stream",
          "text": [
            "Downloading data from https://storage.googleapis.com/tensorflow/tf-keras-datasets/train-labels-idx1-ubyte.gz\n",
            "32768/29515 [=================================] - 0s 0us/step\n",
            "40960/29515 [=========================================] - 0s 0us/step\n",
            "Downloading data from https://storage.googleapis.com/tensorflow/tf-keras-datasets/train-images-idx3-ubyte.gz\n",
            "26427392/26421880 [==============================] - 0s 0us/step\n",
            "26435584/26421880 [==============================] - 0s 0us/step\n",
            "Downloading data from https://storage.googleapis.com/tensorflow/tf-keras-datasets/t10k-labels-idx1-ubyte.gz\n",
            "16384/5148 [===============================================================================================] - 0s 0us/step\n",
            "Downloading data from https://storage.googleapis.com/tensorflow/tf-keras-datasets/t10k-images-idx3-ubyte.gz\n",
            "4423680/4422102 [==============================] - 0s 0us/step\n",
            "4431872/4422102 [==============================] - 0s 0us/step\n"
          ],
          "name": "stdout"
        }
      ]
    },
    {
      "cell_type": "markdown",
      "metadata": {
        "id": "12jxvCP0GuFV"
      },
      "source": [
        "**Define activation functions, Initalize Parameters**"
      ]
    },
    {
      "cell_type": "code",
      "metadata": {
        "id": "KCJPhD_cE4Up"
      },
      "source": [
        "def sigmoid(x) :                                                                              \n",
        "\t\n",
        "  return 1.0/(1.0+np.exp(-x))\n",
        "\n",
        "def softmax(x):                                                                               \n",
        "  return np.exp(x) / np.sum(np.exp(x))  \n",
        "\n",
        "\n",
        "def RBM_init_params() :                                                                        \n",
        "\t\n",
        "  RBM_params = {}\n",
        "  RBM_params[\"W\"] = np.random.randn(n_hidden, n_vis)*np.sqrt(6./(n_vis + n_hidden))   \n",
        "  RBM_params[\"h_b\"] = np.zeros((n_hidden,1),dtype=np.float64)                                                     \n",
        "  RBM_params[\"v_b\"] = np.zeros((n_vis,1),dtype=np.float64)\n",
        "\n",
        "  return RBM_params\n",
        "\n",
        "def Class_params_init() :                                                                 \n",
        "\n",
        "  class_params = {}\n",
        "  class_params[\"W\"] = np.random.randn(n_class, n_hidden)*np.sqrt(6./(n_class + n_hidden))       \n",
        "  class_params[\"b\"] = np.zeros((n_class,1),dtype=np.float64)\n",
        "\n",
        "  return class_params\n",
        "\n",
        "\n",
        "def hidden_representation(x,parameters) :                                                               \n",
        "   \n",
        "    W = parameters[\"W\"]\n",
        "    h_b = parameters[\"h_b\"]\n",
        "    hidden_prob = sigmoid(np.dot(W,x)+h_b)\n",
        "    hidden_rep = np.random.binomial(1,hidden_prob)\n",
        "    \n",
        "    return hidden_rep                                   "
      ],
      "execution_count": 4,
      "outputs": []
    },
    {
      "cell_type": "markdown",
      "metadata": {
        "id": "wKvBznI8HF8U"
      },
      "source": [
        "# **Train the RBM model using Gibbs sampling and Train the classifer**"
      ]
    },
    {
      "cell_type": "code",
      "metadata": {
        "id": "DrBm0gAJG7ua"
      },
      "source": [
        "def Train_RBM(X_train,parameters,k,learning_rate,r) :                       # Function to train the RBM\n",
        "\t\n",
        "  W   = parameters[\"W\"]\n",
        "  h_b = parameters[\"h_b\"]\n",
        "  v_b = parameters[\"v_b\"]\n",
        "  \n",
        "  for i in range(n_train) :\n",
        "    \n",
        "      v_s    = np.random.rand(784,1)\n",
        "      v_in   = X_train[i]\n",
        "      dw     = np.zeros(np.shape(W))\n",
        "      dv     = np.zeros(np.shape(v_b))\n",
        "      dh     = np.zeros(np.shape(h_b))\n",
        "                          \n",
        "      for t in range(k + r):\n",
        "         if t < k:\n",
        "                                                                                            \n",
        "            p_h_g_v = sigmoid(np.dot(W,v_s)+h_b)                                  \n",
        "            h_s = np.random.binomial(1,p_h_g_v)                                      \n",
        "            p_v_g_h = sigmoid(np.dot(np.transpose(W),h_s)+v_b)                    \n",
        "            v_s = np.random.binomial(1,p_v_g_h)                                      \n",
        "         else:\n",
        "            \n",
        "            p_h_g_v = sigmoid(np.dot(W,v_s)+h_b)                                  \n",
        "            h_s = np.random.binomial(1,p_h_g_v)                                     \n",
        "            p_v_g_h = sigmoid(np.dot(np.transpose(W),h_s)+v_b)                    \n",
        "            v_s = np.random.binomial(1,p_v_g_h)    \n",
        "            \n",
        "            dw = dw + 1/r*(np.dot(sigmoid(np.dot(W,v_s)+h_b),np.transpose(v_s)))\n",
        "            dv = dv + 1/r*(v_s)\n",
        "            dh = dh + 1/r*(sigmoid(np.dot(W,v_s)+h_b))\n",
        "\n",
        "      # Update Rule\n",
        "      W = W + learning_rate*(np.dot(sigmoid(np.dot(W,v_in)+h_b),np.transpose(v_in)) - dw)\n",
        "      v_b = v_b + learning_rate*(v_in-dv)\n",
        "      h_b = h_b + learning_rate*(sigmoid(np.dot(W,v_in)+h_b) - dh)\n",
        "\n",
        "  parameters[\"W\"] = W\n",
        "  parameters[\"h_b\"] = h_b\n",
        "  parameters[\"v_b\"] = v_b\n",
        "\n",
        "  return parameters\n",
        "\n",
        "def Train_class(X,Y,RBM_params,param_cls,eph_c,learning_rate)  :                                  \n",
        "    \n",
        "    W = param_cls[\"W\"]\n",
        "    b = param_cls[\"b\"]\n",
        "    \n",
        "    for epoch in range(eph_c) :\n",
        "      for i in range(n_val) :\n",
        "         # feed forward\n",
        "         hidden_rep = hidden_representation(X[i],RBM_params)                                         \n",
        "         previous_out = np.dot(W,hidden_rep)+b\n",
        "         y_hat = softmax(previous_out)\n",
        "         # backpropogate\n",
        "         dW = np.dot(-(Y[i]-y_hat),np.transpose(hidden_rep))\n",
        "         db = -(Y[i]-y_hat)\n",
        "         # Update Classifier weights\n",
        "         W = W - learning_rate*dW\n",
        "         b = b - learning_rate*db\n",
        "\n",
        "    param_cls[\"W\"] = W\n",
        "    param_cls[\"b\"] = b \n",
        "    \n",
        "    return param_cls   \n"
      ],
      "execution_count": 11,
      "outputs": []
    },
    {
      "cell_type": "markdown",
      "metadata": {
        "id": "TEe6Wj8vHUi4"
      },
      "source": [
        "# **RBM classifier**\n",
        "\n"
      ]
    },
    {
      "cell_type": "code",
      "metadata": {
        "id": "Ly9KcqZmHUAh"
      },
      "source": [
        "\n",
        "def RBM_clsfier(X_train,Y_train,X_val,Y_val,X_test,Y_test,epochs_RBM,eph_c,k,n_hidden,learning_rate,r) :\n",
        "  param_cls  = Class_params_init() \n",
        "  RBM_params = RBM_init_params()\n",
        "\n",
        "  for j in range(epochs_RBM) :\n",
        "     RBM_params = Train_RBM(X_train,RBM_params,k,learning_rate,r)                             \n",
        "     param_cls = Train_class(X_val,Y_val,RBM_params,param_cls,eph_c,learning_rate)               \n",
        "     \n",
        "     accuracy = 0.0\n",
        "     loss = 0.0 \n",
        "     # Evaluate accuracy and loss over test data\n",
        "     for i in range(n_test) :\n",
        "        h = hidden_representation(X_test[i],RBM_params)\n",
        "        y_hat = softmax(np.dot(param_cls[\"W\"],h)+param_cls[\"b\"])\n",
        "\n",
        "        if y_hat.argmax()==Y_test[i].argmax():\n",
        "            accuracy = accuracy + 1\n",
        "        loss = loss + -1*np.sum(np.multiply(y,np.log(y_hat)))\n",
        "\n",
        "     accuracy = accuracy/n_test\n",
        "     loss = loss/n_test \n",
        "     print(\"Epoch :\" + str(j)+\" \"+ str(accuracy)+\" \"+str(loss))\n",
        "     wandb.log({\"Accuracy\":accuracy,\"Loss\":loss,\"Epoch\":j})\n",
        "  return RBM_params,param_cls, accuracy, loss\n",
        "\n"
      ],
      "execution_count": 12,
      "outputs": []
    },
    {
      "cell_type": "code",
      "metadata": {
        "id": "u17ldJ3EFjWL"
      },
      "source": [
        "def train():\n",
        "  hyperparameter_defaults=dict(\n",
        "        epochs_RBM = 5,\n",
        "        eph_c = 3,\n",
        "        k = 40,\n",
        "        n_hidden = 80,\n",
        "        learning_rate = 0.1 ,\n",
        "        r = 10                                                                   \n",
        "        )\n",
        "\n",
        "  wandb.init(config=hyperparameter_defaults)\n",
        "\n",
        "  config=wandb.config\n",
        "  RBM_params,param_cls,accuracy,loss = RBM_clsfier(X_train,Y_train,X_val,Y_val,X_test,Y_test,config.epochs_RBM,config.eph_c,config.k,config.n_hidden,config.learning_rate,config.r)\n",
        "\n"
      ],
      "execution_count": 13,
      "outputs": []
    },
    {
      "cell_type": "markdown",
      "metadata": {
        "id": "Opqv-F8kHeNJ"
      },
      "source": [
        "**Sweep over all the hyperparameters**"
      ]
    },
    {
      "cell_type": "code",
      "metadata": {
        "id": "ip8XSmDyFj--"
      },
      "source": [
        "def sweeper(sweep_config,Project):\n",
        "  sweep_id=wandb.sweep(sweep_config,project=Project,entity='chaxin',)\n",
        "  sweep_id = \"nhvl1lun\"\n",
        "  wandb.agent(sweep_id,train,project=Project,entity='chaxin',)\n",
        "\n",
        "\n",
        "#sweep dictionary\n",
        "sweep_config={\n",
        "    'method':'bayes',\n",
        "    'metric':{\n",
        "        'name':'accuracy',\n",
        "        'goal':'maximize'},\n",
        "\n",
        "}\n",
        "\n",
        "parameters_sweep={\n",
        "    \n",
        "    'epochs_RBM':{\n",
        "      'values':[7]  \n",
        "    },\n",
        "    'eph_c':{\n",
        "        'values':[1]\n",
        "    },\n",
        "    'k':{\n",
        "        'values':[1,5,10,15,20]\n",
        "    },\n",
        "    'n_hidden':{\n",
        "        'values':[64,128,256]\n",
        "    },\n",
        "    'learning_rate':{\n",
        "        'values':[0.01]\n",
        "    },\n",
        "    'r':{\n",
        "        'values' :[10,20]\n",
        "    }\n",
        "    \n",
        "}\n",
        "\n",
        "sweep_config['parameters']=parameters_sweep  "
      ],
      "execution_count": null,
      "outputs": []
    },
    {
      "cell_type": "code",
      "metadata": {
        "colab": {
          "base_uri": "https://localhost:8080/",
          "height": 711,
          "referenced_widgets": [
            "abcbc1fd1c894863a4cf33e9eae68a5e",
            "c4621e6ca37448e4beef9acc91b102ca",
            "0b6b90754a664bd08a58a242436ee40e",
            "43000fe5a6c847168966e772f4298759",
            "8a2c6e4eb477457c84ee51ccdda1c923",
            "19d9863f9cc1495bb5dcb45529152f65",
            "d3ef740be2634882882f58996abceb88",
            "d5dc4891908344299ed3d2109b18a42f"
          ]
        },
        "id": "v2QZbmWqFwnv",
        "outputId": "f767cba1-6104-403c-ae66-0f39041c8055"
      },
      "source": [
        "train()"
      ],
      "execution_count": 14,
      "outputs": [
        {
          "output_type": "display_data",
          "data": {
            "text/html": [
              "Finishing last run (ID:3so8ugk8) before initializing another..."
            ],
            "text/plain": [
              "<IPython.core.display.HTML object>"
            ]
          },
          "metadata": {
            "tags": []
          }
        },
        {
          "output_type": "display_data",
          "data": {
            "text/html": [
              "<br/>Waiting for W&B process to finish, PID 170<br/>Program ended successfully."
            ],
            "text/plain": [
              "<IPython.core.display.HTML object>"
            ]
          },
          "metadata": {
            "tags": []
          }
        },
        {
          "output_type": "display_data",
          "data": {
            "application/vnd.jupyter.widget-view+json": {
              "model_id": "abcbc1fd1c894863a4cf33e9eae68a5e",
              "version_major": 2,
              "version_minor": 0
            },
            "text/plain": [
              "VBox(children=(Label(value=' 0.00MB of 0.00MB uploaded (0.00MB deduped)\\r'), FloatProgress(value=1.0, max=1.0)…"
            ]
          },
          "metadata": {
            "tags": []
          }
        },
        {
          "output_type": "display_data",
          "data": {
            "text/html": [
              "Find user logs for this run at: <code>/content/wandb/run-20210527_093806-3so8ugk8/logs/debug.log</code>"
            ],
            "text/plain": [
              "<IPython.core.display.HTML object>"
            ]
          },
          "metadata": {
            "tags": []
          }
        },
        {
          "output_type": "display_data",
          "data": {
            "text/html": [
              "Find internal logs for this run at: <code>/content/wandb/run-20210527_093806-3so8ugk8/logs/debug-internal.log</code>"
            ],
            "text/plain": [
              "<IPython.core.display.HTML object>"
            ]
          },
          "metadata": {
            "tags": []
          }
        },
        {
          "output_type": "display_data",
          "data": {
            "text/html": [
              "Synced 4 W&B file(s), 0 media file(s), 0 artifact file(s) and 0 other file(s)"
            ],
            "text/plain": [
              "<IPython.core.display.HTML object>"
            ]
          },
          "metadata": {
            "tags": []
          }
        },
        {
          "output_type": "display_data",
          "data": {
            "text/html": [
              "\n",
              "                    <br/>Synced <strong style=\"color:#cdcd00\">smart-silence-15</strong>: <a href=\"https://wandb.ai/chaxin/uncategorized/runs/3so8ugk8\" target=\"_blank\">https://wandb.ai/chaxin/uncategorized/runs/3so8ugk8</a><br/>\n",
              "                "
            ],
            "text/plain": [
              "<IPython.core.display.HTML object>"
            ]
          },
          "metadata": {
            "tags": []
          }
        },
        {
          "output_type": "display_data",
          "data": {
            "text/html": [
              "...Successfully finished last run (ID:3so8ugk8). Initializing new run:<br/><br/>"
            ],
            "text/plain": [
              "<IPython.core.display.HTML object>"
            ]
          },
          "metadata": {
            "tags": []
          }
        },
        {
          "output_type": "display_data",
          "data": {
            "text/html": [
              "\n",
              "                Tracking run with wandb version 0.10.30<br/>\n",
              "                Syncing run <strong style=\"color:#cdcd00\">fearless-night-16</strong> to <a href=\"https://wandb.ai\" target=\"_blank\">Weights & Biases</a> <a href=\"https://docs.wandb.com/integrations/jupyter.html\" target=\"_blank\">(Documentation)</a>.<br/>\n",
              "                Project page: <a href=\"https://wandb.ai/chaxin/uncategorized\" target=\"_blank\">https://wandb.ai/chaxin/uncategorized</a><br/>\n",
              "                Run page: <a href=\"https://wandb.ai/chaxin/uncategorized/runs/3o7twj12\" target=\"_blank\">https://wandb.ai/chaxin/uncategorized/runs/3o7twj12</a><br/>\n",
              "                Run data is saved locally in <code>/content/wandb/run-20210527_093833-3o7twj12</code><br/><br/>\n",
              "            "
            ],
            "text/plain": [
              "<IPython.core.display.HTML object>"
            ]
          },
          "metadata": {
            "tags": []
          }
        },
        {
          "output_type": "stream",
          "text": [
            "Epoch :0 0.6634 9.465510759889954\n"
          ],
          "name": "stdout"
        },
        {
          "output_type": "error",
          "ename": "KeyboardInterrupt",
          "evalue": "ignored",
          "traceback": [
            "\u001b[0;31m---------------------------------------------------------------------------\u001b[0m",
            "\u001b[0;31mKeyboardInterrupt\u001b[0m                         Traceback (most recent call last)",
            "\u001b[0;32m<ipython-input-14-2da0ffaf5447>\u001b[0m in \u001b[0;36m<module>\u001b[0;34m()\u001b[0m\n\u001b[0;32m----> 1\u001b[0;31m \u001b[0mtrain\u001b[0m\u001b[0;34m(\u001b[0m\u001b[0;34m)\u001b[0m\u001b[0;34m\u001b[0m\u001b[0;34m\u001b[0m\u001b[0m\n\u001b[0m",
            "\u001b[0;32m<ipython-input-13-eee7ad1970bb>\u001b[0m in \u001b[0;36mtrain\u001b[0;34m()\u001b[0m\n\u001b[1;32m     12\u001b[0m \u001b[0;34m\u001b[0m\u001b[0m\n\u001b[1;32m     13\u001b[0m   \u001b[0mconfig\u001b[0m\u001b[0;34m=\u001b[0m\u001b[0mwandb\u001b[0m\u001b[0;34m.\u001b[0m\u001b[0mconfig\u001b[0m\u001b[0;34m\u001b[0m\u001b[0;34m\u001b[0m\u001b[0m\n\u001b[0;32m---> 14\u001b[0;31m   \u001b[0mRBM_params\u001b[0m\u001b[0;34m,\u001b[0m\u001b[0mparam_cls\u001b[0m\u001b[0;34m,\u001b[0m\u001b[0maccuracy\u001b[0m\u001b[0;34m,\u001b[0m\u001b[0mloss\u001b[0m \u001b[0;34m=\u001b[0m \u001b[0mRBM_clsfier\u001b[0m\u001b[0;34m(\u001b[0m\u001b[0mX_train\u001b[0m\u001b[0;34m,\u001b[0m\u001b[0mY_train\u001b[0m\u001b[0;34m,\u001b[0m\u001b[0mX_val\u001b[0m\u001b[0;34m,\u001b[0m\u001b[0mY_val\u001b[0m\u001b[0;34m,\u001b[0m\u001b[0mX_test\u001b[0m\u001b[0;34m,\u001b[0m\u001b[0mY_test\u001b[0m\u001b[0;34m,\u001b[0m\u001b[0mconfig\u001b[0m\u001b[0;34m.\u001b[0m\u001b[0mepochs_RBM\u001b[0m\u001b[0;34m,\u001b[0m\u001b[0mconfig\u001b[0m\u001b[0;34m.\u001b[0m\u001b[0meph_c\u001b[0m\u001b[0;34m,\u001b[0m\u001b[0mconfig\u001b[0m\u001b[0;34m.\u001b[0m\u001b[0mk\u001b[0m\u001b[0;34m,\u001b[0m\u001b[0mconfig\u001b[0m\u001b[0;34m.\u001b[0m\u001b[0mn_hidden\u001b[0m\u001b[0;34m,\u001b[0m\u001b[0mconfig\u001b[0m\u001b[0;34m.\u001b[0m\u001b[0mlearning_rate\u001b[0m\u001b[0;34m,\u001b[0m\u001b[0mconfig\u001b[0m\u001b[0;34m.\u001b[0m\u001b[0mr\u001b[0m\u001b[0;34m)\u001b[0m\u001b[0;34m\u001b[0m\u001b[0;34m\u001b[0m\u001b[0m\n\u001b[0m\u001b[1;32m     15\u001b[0m \u001b[0;34m\u001b[0m\u001b[0m\n",
            "\u001b[0;32m<ipython-input-12-c7668b20a015>\u001b[0m in \u001b[0;36mRBM_clsfier\u001b[0;34m(X_train, Y_train, X_val, Y_val, X_test, Y_test, epochs_RBM, eph_c, k, n_hidden, learning_rate, r)\u001b[0m\n\u001b[1;32m      5\u001b[0m \u001b[0;34m\u001b[0m\u001b[0m\n\u001b[1;32m      6\u001b[0m   \u001b[0;32mfor\u001b[0m \u001b[0mj\u001b[0m \u001b[0;32min\u001b[0m \u001b[0mrange\u001b[0m\u001b[0;34m(\u001b[0m\u001b[0mepochs_RBM\u001b[0m\u001b[0;34m)\u001b[0m \u001b[0;34m:\u001b[0m\u001b[0;34m\u001b[0m\u001b[0;34m\u001b[0m\u001b[0m\n\u001b[0;32m----> 7\u001b[0;31m      \u001b[0mRBM_params\u001b[0m \u001b[0;34m=\u001b[0m \u001b[0mTrain_RBM\u001b[0m\u001b[0;34m(\u001b[0m\u001b[0mX_train\u001b[0m\u001b[0;34m,\u001b[0m\u001b[0mRBM_params\u001b[0m\u001b[0;34m,\u001b[0m\u001b[0mk\u001b[0m\u001b[0;34m,\u001b[0m\u001b[0mlearning_rate\u001b[0m\u001b[0;34m,\u001b[0m\u001b[0mr\u001b[0m\u001b[0;34m)\u001b[0m\u001b[0;34m\u001b[0m\u001b[0;34m\u001b[0m\u001b[0m\n\u001b[0m\u001b[1;32m      8\u001b[0m      \u001b[0mparam_cls\u001b[0m \u001b[0;34m=\u001b[0m \u001b[0mTrain_class\u001b[0m\u001b[0;34m(\u001b[0m\u001b[0mX_val\u001b[0m\u001b[0;34m,\u001b[0m\u001b[0mY_val\u001b[0m\u001b[0;34m,\u001b[0m\u001b[0mRBM_params\u001b[0m\u001b[0;34m,\u001b[0m\u001b[0mparam_cls\u001b[0m\u001b[0;34m,\u001b[0m\u001b[0meph_c\u001b[0m\u001b[0;34m,\u001b[0m\u001b[0mlearning_rate\u001b[0m\u001b[0;34m)\u001b[0m\u001b[0;34m\u001b[0m\u001b[0;34m\u001b[0m\u001b[0m\n\u001b[1;32m      9\u001b[0m \u001b[0;34m\u001b[0m\u001b[0m\n",
            "\u001b[0;32m<ipython-input-11-69e506140993>\u001b[0m in \u001b[0;36mTrain_RBM\u001b[0;34m(X_train, parameters, k, learning_rate, r)\u001b[0m\n\u001b[1;32m     27\u001b[0m             \u001b[0mv_s\u001b[0m \u001b[0;34m=\u001b[0m \u001b[0mnp\u001b[0m\u001b[0;34m.\u001b[0m\u001b[0mrandom\u001b[0m\u001b[0;34m.\u001b[0m\u001b[0mbinomial\u001b[0m\u001b[0;34m(\u001b[0m\u001b[0;36m1\u001b[0m\u001b[0;34m,\u001b[0m\u001b[0mp_v_g_h\u001b[0m\u001b[0;34m)\u001b[0m\u001b[0;34m\u001b[0m\u001b[0;34m\u001b[0m\u001b[0m\n\u001b[1;32m     28\u001b[0m \u001b[0;34m\u001b[0m\u001b[0m\n\u001b[0;32m---> 29\u001b[0;31m             \u001b[0mdw\u001b[0m \u001b[0;34m=\u001b[0m \u001b[0mdw\u001b[0m \u001b[0;34m+\u001b[0m \u001b[0;36m1\u001b[0m\u001b[0;34m/\u001b[0m\u001b[0mr\u001b[0m\u001b[0;34m*\u001b[0m\u001b[0;34m(\u001b[0m\u001b[0mnp\u001b[0m\u001b[0;34m.\u001b[0m\u001b[0mdot\u001b[0m\u001b[0;34m(\u001b[0m\u001b[0msigmoid\u001b[0m\u001b[0;34m(\u001b[0m\u001b[0mnp\u001b[0m\u001b[0;34m.\u001b[0m\u001b[0mdot\u001b[0m\u001b[0;34m(\u001b[0m\u001b[0mW\u001b[0m\u001b[0;34m,\u001b[0m\u001b[0mv_s\u001b[0m\u001b[0;34m)\u001b[0m\u001b[0;34m+\u001b[0m\u001b[0mh_b\u001b[0m\u001b[0;34m)\u001b[0m\u001b[0;34m,\u001b[0m\u001b[0mnp\u001b[0m\u001b[0;34m.\u001b[0m\u001b[0mtranspose\u001b[0m\u001b[0;34m(\u001b[0m\u001b[0mv_s\u001b[0m\u001b[0;34m)\u001b[0m\u001b[0;34m)\u001b[0m\u001b[0;34m)\u001b[0m\u001b[0;34m\u001b[0m\u001b[0;34m\u001b[0m\u001b[0m\n\u001b[0m\u001b[1;32m     30\u001b[0m             \u001b[0mdv\u001b[0m \u001b[0;34m=\u001b[0m \u001b[0mdv\u001b[0m \u001b[0;34m+\u001b[0m \u001b[0;36m1\u001b[0m\u001b[0;34m/\u001b[0m\u001b[0mr\u001b[0m\u001b[0;34m*\u001b[0m\u001b[0;34m(\u001b[0m\u001b[0mv_s\u001b[0m\u001b[0;34m)\u001b[0m\u001b[0;34m\u001b[0m\u001b[0;34m\u001b[0m\u001b[0m\n\u001b[1;32m     31\u001b[0m             \u001b[0mdh\u001b[0m \u001b[0;34m=\u001b[0m \u001b[0mdh\u001b[0m \u001b[0;34m+\u001b[0m \u001b[0;36m1\u001b[0m\u001b[0;34m/\u001b[0m\u001b[0mr\u001b[0m\u001b[0;34m*\u001b[0m\u001b[0;34m(\u001b[0m\u001b[0msigmoid\u001b[0m\u001b[0;34m(\u001b[0m\u001b[0mnp\u001b[0m\u001b[0;34m.\u001b[0m\u001b[0mdot\u001b[0m\u001b[0;34m(\u001b[0m\u001b[0mW\u001b[0m\u001b[0;34m,\u001b[0m\u001b[0mv_s\u001b[0m\u001b[0;34m)\u001b[0m\u001b[0;34m+\u001b[0m\u001b[0mh_b\u001b[0m\u001b[0;34m)\u001b[0m\u001b[0;34m)\u001b[0m\u001b[0;34m\u001b[0m\u001b[0;34m\u001b[0m\u001b[0m\n",
            "\u001b[0;32m<__array_function__ internals>\u001b[0m in \u001b[0;36mdot\u001b[0;34m(*args, **kwargs)\u001b[0m\n",
            "\u001b[0;31mKeyboardInterrupt\u001b[0m: "
          ]
        }
      ]
    },
    {
      "cell_type": "code",
      "metadata": {
        "id": "w_nOxq01Fx5w"
      },
      "source": [
        ""
      ],
      "execution_count": null,
      "outputs": []
    }
  ]
}