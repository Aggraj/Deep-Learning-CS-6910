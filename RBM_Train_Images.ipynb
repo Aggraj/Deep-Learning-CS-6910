{
  "nbformat": 4,
  "nbformat_minor": 0,
  "metadata": {
    "colab": {
      "name": "RBM_Train_Images.ipynb",
      "provenance": [],
      "authorship_tag": "ABX9TyNeiaHc9An4te7hu+JuGFQv",
      "include_colab_link": true
    },
    "kernelspec": {
      "name": "python3",
      "display_name": "Python 3"
    },
    "language_info": {
      "name": "python"
    }
  },
  "cells": [
    {
      "cell_type": "markdown",
      "metadata": {
        "id": "view-in-github",
        "colab_type": "text"
      },
      "source": [
        "<a href=\"https://colab.research.google.com/github/Aggraj/Deep-Learning-CS-6910/blob/main/RBM_Train_Images.ipynb\" target=\"_parent\"><img src=\"https://colab.research.google.com/assets/colab-badge.svg\" alt=\"Open In Colab\"/></a>"
      ]
    },
    {
      "cell_type": "markdown",
      "metadata": {
        "id": "iXKghDepGCtW"
      },
      "source": [
        "Import WandB "
      ]
    },
    {
      "cell_type": "code",
      "metadata": {
        "id": "s_77DO3ZE6uJ",
        "colab": {
          "base_uri": "https://localhost:8080/"
        },
        "outputId": "92eb7355-20b3-4356-b637-6786b6d71940"
      },
      "source": [
        "!pip install wandb\n",
        "import wandb\n"
      ],
      "execution_count": 2,
      "outputs": [
        {
          "output_type": "stream",
          "text": [
            "Requirement already satisfied: wandb in /usr/local/lib/python3.7/dist-packages (0.10.30)\n",
            "Requirement already satisfied: six>=1.13.0 in /usr/local/lib/python3.7/dist-packages (from wandb) (1.15.0)\n",
            "Requirement already satisfied: Click>=7.0 in /usr/local/lib/python3.7/dist-packages (from wandb) (7.1.2)\n",
            "Requirement already satisfied: promise<3,>=2.0 in /usr/local/lib/python3.7/dist-packages (from wandb) (2.3)\n",
            "Requirement already satisfied: requests<3,>=2.0.0 in /usr/local/lib/python3.7/dist-packages (from wandb) (2.23.0)\n",
            "Requirement already satisfied: psutil>=5.0.0 in /usr/local/lib/python3.7/dist-packages (from wandb) (5.4.8)\n",
            "Requirement already satisfied: subprocess32>=3.5.3 in /usr/local/lib/python3.7/dist-packages (from wandb) (3.5.4)\n",
            "Requirement already satisfied: protobuf>=3.12.0 in /usr/local/lib/python3.7/dist-packages (from wandb) (3.12.4)\n",
            "Requirement already satisfied: docker-pycreds>=0.4.0 in /usr/local/lib/python3.7/dist-packages (from wandb) (0.4.0)\n",
            "Requirement already satisfied: shortuuid>=0.5.0 in /usr/local/lib/python3.7/dist-packages (from wandb) (1.0.1)\n",
            "Requirement already satisfied: sentry-sdk>=0.4.0 in /usr/local/lib/python3.7/dist-packages (from wandb) (1.1.0)\n",
            "Requirement already satisfied: python-dateutil>=2.6.1 in /usr/local/lib/python3.7/dist-packages (from wandb) (2.8.1)\n",
            "Requirement already satisfied: GitPython>=1.0.0 in /usr/local/lib/python3.7/dist-packages (from wandb) (3.1.17)\n",
            "Requirement already satisfied: pathtools in /usr/local/lib/python3.7/dist-packages (from wandb) (0.1.2)\n",
            "Requirement already satisfied: configparser>=3.8.1 in /usr/local/lib/python3.7/dist-packages (from wandb) (5.0.2)\n",
            "Requirement already satisfied: PyYAML in /usr/local/lib/python3.7/dist-packages (from wandb) (3.13)\n",
            "Requirement already satisfied: chardet<4,>=3.0.2 in /usr/local/lib/python3.7/dist-packages (from requests<3,>=2.0.0->wandb) (3.0.4)\n",
            "Requirement already satisfied: certifi>=2017.4.17 in /usr/local/lib/python3.7/dist-packages (from requests<3,>=2.0.0->wandb) (2020.12.5)\n",
            "Requirement already satisfied: idna<3,>=2.5 in /usr/local/lib/python3.7/dist-packages (from requests<3,>=2.0.0->wandb) (2.10)\n",
            "Requirement already satisfied: urllib3!=1.25.0,!=1.25.1,<1.26,>=1.21.1 in /usr/local/lib/python3.7/dist-packages (from requests<3,>=2.0.0->wandb) (1.24.3)\n",
            "Requirement already satisfied: setuptools in /usr/local/lib/python3.7/dist-packages (from protobuf>=3.12.0->wandb) (56.1.0)\n",
            "Requirement already satisfied: gitdb<5,>=4.0.1 in /usr/local/lib/python3.7/dist-packages (from GitPython>=1.0.0->wandb) (4.0.7)\n",
            "Requirement already satisfied: typing-extensions>=3.7.4.0; python_version < \"3.8\" in /usr/local/lib/python3.7/dist-packages (from GitPython>=1.0.0->wandb) (3.7.4.3)\n",
            "Requirement already satisfied: smmap<5,>=3.0.1 in /usr/local/lib/python3.7/dist-packages (from gitdb<5,>=4.0.1->GitPython>=1.0.0->wandb) (4.0.0)\n"
          ],
          "name": "stdout"
        }
      ]
    },
    {
      "cell_type": "code",
      "metadata": {
        "id": "KuyV1uN1FEr9"
      },
      "source": [
        "import numpy as np\n",
        "import matplotlib.pyplot as plt\n",
        "import matplotlib\n",
        "from keras.datasets import fashion_mnist\n",
        "from keras.datasets import mnist\n"
      ],
      "execution_count": 3,
      "outputs": []
    },
    {
      "cell_type": "markdown",
      "metadata": {
        "id": "kuRh8bzrGI1_"
      },
      "source": [
        "**Read the Fashion MNIST data set, divide the data set as train and validation. There are 10 class in the data set. Initialize all the variables e.g : number of hidden layer size, number of class etc**"
      ]
    },
    {
      "cell_type": "code",
      "metadata": {
        "id": "Q6a4hxqmFHW5",
        "colab": {
          "base_uri": "https://localhost:8080/"
        },
        "outputId": "8fa3e493-bdfd-4bd1-889a-50a5912c6a6e"
      },
      "source": [
        "# load the Fashion MNIST data set\n",
        "(x_train, y_train), (x_test, y_test) = fashion_mnist.load_data()\n",
        "class_type = ['T-shirt/top', 'Trouser', 'Pullover', 'Dress', 'Coat','Sandal', 'Shirt', 'Sneaker', 'Bag', 'Ankle boot'] \n",
        "\n",
        "Project='ASSIGNMENT 4'\n",
        "\n",
        "\n",
        "# Split the data set and assign the data values depending on thresholding\n",
        "X_train = np.array(x_train.reshape(x_train.shape[0], 784,1))         \n",
        "X_test  = np.array(x_test.reshape(x_test.shape[0], 784,1))           \n",
        "X_train = (X_train > 126) * 1                                        \n",
        "X_test  = (X_test > 126) * 1                                         \n",
        "X_val = X_train[-15000:]                                             \n",
        "X_train = X_train[0:45000]                                           \n",
        "\n",
        "Y_train = np.zeros([len(y_train),10,1])\n",
        "Y_test = np.zeros([len(y_test),10,1])\n",
        "\n",
        "for i in range(len(y_train)):                                       \n",
        "  y = np.zeros([10, 1])\n",
        "  y[y_train[i]] = 1.0\n",
        "  Y_train[i] = y\n",
        "\n",
        "for i in range(len(y_test)):                                         \n",
        "  y = np.zeros([10, 1])\n",
        "  y[y_test[i]] = 1.0\n",
        "  Y_test[i] = y                                                      \n",
        "\n",
        "Y_val = Y_train[-15000:]                                             \n",
        "Y_train = Y_train[0:45000]        \n",
        "\n",
        "\n",
        "n_vis = X_train.shape[1]                                         \n",
        "n_train = X_train.shape[0]                                  \n",
        "n_val = X_val.shape[0]                                      \n",
        "n_test = X_test.shape[0]                                    \n",
        "n_hidden = 64                 \n",
        "n_class = 10\n"
      ],
      "execution_count": 4,
      "outputs": [
        {
          "output_type": "stream",
          "text": [
            "Downloading data from https://storage.googleapis.com/tensorflow/tf-keras-datasets/train-labels-idx1-ubyte.gz\n",
            "32768/29515 [=================================] - 0s 0us/step\n",
            "40960/29515 [=========================================] - 0s 0us/step\n",
            "Downloading data from https://storage.googleapis.com/tensorflow/tf-keras-datasets/train-images-idx3-ubyte.gz\n",
            "26427392/26421880 [==============================] - 0s 0us/step\n",
            "26435584/26421880 [==============================] - 0s 0us/step\n",
            "Downloading data from https://storage.googleapis.com/tensorflow/tf-keras-datasets/t10k-labels-idx1-ubyte.gz\n",
            "16384/5148 [===============================================================================================] - 0s 0us/step\n",
            "Downloading data from https://storage.googleapis.com/tensorflow/tf-keras-datasets/t10k-images-idx3-ubyte.gz\n",
            "4423680/4422102 [==============================] - 0s 0us/step\n",
            "4431872/4422102 [==============================] - 0s 0us/step\n"
          ],
          "name": "stdout"
        }
      ]
    },
    {
      "cell_type": "markdown",
      "metadata": {
        "id": "12jxvCP0GuFV"
      },
      "source": [
        "**Define activation functions, Initalize Parameters**"
      ]
    },
    {
      "cell_type": "code",
      "metadata": {
        "id": "KCJPhD_cE4Up"
      },
      "source": [
        "\n",
        "def sigmoid(x) :                                                                              \n",
        "\t\n",
        "  return 1.0/(1.0+np.exp(-x))\n",
        "\n",
        "def softmax(x):                                                                               \n",
        "  return np.exp(x) / np.sum(np.exp(x))  \n",
        "  \n",
        "def hidden_r(n,W,image,c):\n",
        "  return np.random.binomial(1,sigmoid(np.dot(W,image)+c))\n",
        "\n",
        "def RBM_init_params() :                                                                        \n",
        "\t\n",
        "  RBM_params = {}\n",
        "  RBM_params[\"W\"] = np.random.randn(n_hidden, n_vis)*np.sqrt(6./(n_vis + n_hidden))   \n",
        "  RBM_params[\"h_b\"] = np.zeros((n_hidden,1),dtype=np.float64)                                                     \n",
        "  RBM_params[\"v_b\"] = np.zeros((n_vis,1),dtype=np.float64)\n",
        "\n",
        "  return RBM_params\n",
        "\n",
        "def Class_params_init() :                                                                 \n",
        "\n",
        "  class_params = {}\n",
        "  class_params[\"W\"] = np.random.randn(n_class, n_hidden)*np.sqrt(6./(n_class + n_hidden))       \n",
        "  class_params[\"b\"] = np.zeros((n_class,1),dtype=np.float64)\n",
        "\n",
        "  return class_params\n",
        "\n",
        "\n",
        "def hidden_representation(x,parameters) :                                                               \n",
        "   \n",
        "    W = parameters[\"W\"]\n",
        "    h_b = parameters[\"h_b\"]\n",
        "    hidden_prob = sigmoid(np.dot(W,x)+h_b)\n",
        "    hidden_rep = np.random.binomial(1,hidden_prob)\n",
        "    \n",
        "    return hidden_rep                                   "
      ],
      "execution_count": 5,
      "outputs": []
    },
    {
      "cell_type": "markdown",
      "metadata": {
        "id": "wKvBznI8HF8U"
      },
      "source": [
        "# **Train the RBM model using Gibbs sampling and Train the classifer**"
      ]
    },
    {
      "cell_type": "code",
      "metadata": {
        "id": "DrBm0gAJG7ua"
      },
      "source": [
        "def Train_RBM(X_train,parameters,k,learning_rate) :                       # Function to train the RBM\n",
        "\t\n",
        "  W = parameters[\"W\"]\n",
        "  h_b = parameters[\"h_b\"]\n",
        "  v_b = parameters[\"v_b\"]\n",
        "  \n",
        "  \n",
        "  for i in range(n_train) :\n",
        "      v_s = X_train[i]\n",
        "      v_in   = X_train[i]\n",
        "\n",
        "      for t in range(k) :                                                               # Markov Chain \n",
        "         p_h_g_v = sigmoid(np.dot(W,v_s)+h_b)                                  \n",
        "         h_s = np.random.binomial(1,p_h_g_v)                                      \n",
        "         p_v_g_h = sigmoid(np.dot(np.transpose(W),h_s)+v_b)                    \n",
        "         v_s = np.random.binomial(1,p_v_g_h)                                      # Convert to 0's and 1's using binomial distribution \n",
        "\n",
        "      # Update Rule\n",
        "      W = W + learning_rate*(np.dot(sigmoid(np.dot(W,v_in)+h_b),np.transpose(v_in)) - np.dot(sigmoid(np.dot(W,v_s)+h_b),np.transpose(v_s)))\n",
        "      v_b = v_b + learning_rate*(v_in-v_s)\n",
        "      h_b = h_b + learning_rate*(sigmoid(np.dot(W,v_in)+h_b) - sigmoid(np.dot(W,v_s)+h_b))\n",
        "\n",
        "  parameters[\"W\"] = W\n",
        "  parameters[\"h_b\"] = h_b\n",
        "  parameters[\"v_b\"] = v_b\n",
        "\n",
        "  return parameters\n",
        "\n"
      ],
      "execution_count": 6,
      "outputs": []
    },
    {
      "cell_type": "code",
      "metadata": {
        "id": "isfeymYfTJYt"
      },
      "source": [
        "  RBM_params = RBM_init_params()\n",
        "  epochs = 1\n",
        "  k = 2\n",
        "  learning_rate = 0.01\n",
        "\n",
        "  W      = RBM_params[\"W\"]\n",
        "  h_b = RBM_params[\"h_b\"]\n",
        "  v_b = RBM_params[\"v_b\"]\n",
        "\n",
        "  for j in range(epochs) :\n",
        "      \n",
        "      plt.figure(figsize = (10,8))\n",
        "      subplot_no = 1\n",
        "          \n",
        "      for i in range(n_train) :\n",
        "          v_s    = X_train[i]\n",
        "          v_in   = X_train[i]\n",
        "\n",
        "          if ((i%(400) == 0)) and (subplot_no <= 64):\n",
        "\n",
        "            hidden_reps = np.random.binomial(1,sigmoid(np.dot(W,v_s)+h_b))\n",
        "            rec_img = np.random.binomial(1,sigmoid(np.dot(np.transpose(W),hidden_reps)+v_b))\n",
        "            img = np.reshape(rec_img, (28,28))\n",
        "            plt.subplot(8,8,subplot_no)\n",
        "            plt.imshow(img, cmap = \"gray\")\n",
        "            plt.axis(\"off\")\n",
        "            subplot_no += 1\n",
        "\n",
        "          for t in range(k) :                                                                \n",
        "             p_h_g_v = sigmoid(np.dot(W,v_s)+h_b)                                  \n",
        "             h_s = np.random.binomial(1,p_h_g_v)                                      \n",
        "             p_v_g_h = sigmoid(np.dot(np.transpose(W),h_s)+v_b)                    \n",
        "             v_s = np.random.binomial(1,p_v_g_h)                                      \n",
        "          # Update Rule\n",
        "          W = W + learning_rate*(np.dot(sigmoid(np.dot(W,v_in)+h_b),np.transpose(v_in)) - np.dot(sigmoid(np.dot(W,v_s)+h_b),np.transpose(v_s)))\n",
        "          v_b = v_b + learning_rate*(v_in-v_s)\n",
        "          h_b = h_b + learning_rate*(sigmoid(np.dot(W,v_in)+h_b) - sigmoid(np.dot(W,v_s)+h_b))\n",
        "\n",
        "\n",
        "      plt.show()\n",
        "\n",
        "  RBM_params[\"W\"] = W\n",
        "  RBM_params[\"h_b\"] = h_b\n",
        "  RBM_params[\"v_b\"] = v_b\n"
      ],
      "execution_count": null,
      "outputs": []
    },
    {
      "cell_type": "code",
      "metadata": {
        "id": "46oCbIC4UzJk"
      },
      "source": [
        ""
      ],
      "execution_count": null,
      "outputs": []
    }
  ]
}